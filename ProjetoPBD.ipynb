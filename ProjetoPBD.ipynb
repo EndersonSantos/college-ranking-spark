{
 "cells": [
  {
   "cell_type": "markdown",
   "id": "38fd3425-fc77-4155-b970-63386b247b90",
   "metadata": {
    "tags": []
   },
   "source": [
    "## Projeto PBD"
   ]
  },
  {
   "cell_type": "code",
   "execution_count": 2,
   "id": "362ecfbb-8033-45df-a055-f033a0223783",
   "metadata": {
    "tags": []
   },
   "outputs": [],
   "source": [
    "import os\n",
    "import sys\n",
    "\n",
    "import numpy as np \n",
    "import pandas as pd  \n",
    "import matplotlib.pyplot as plt\n",
    "import seaborn as sns\n",
    "# from ydata_profiling import ProfileReport\n",
    "import warnings\n",
    "warnings.filterwarnings(\"ignore\")"
   ]
  },
  {
   "cell_type": "code",
   "execution_count": 1,
   "id": "7e416407-1dd4-468c-8d90-d574e9e9fd89",
   "metadata": {
    "tags": []
   },
   "outputs": [
    {
     "data": {
      "text/plain": [
       "Intitializing PySpark ..."
      ]
     },
     "metadata": {},
     "output_type": "display_data"
    },
    {
     "name": "stdout",
     "output_type": "stream",
     "text": [
      "23/04/04 19:43:32 WARN Utils: Your hostname, DESKTOP-M9FP7G5 resolves to a loopback address: 127.0.1.1; using 192.168.89.130 instead (on interface eth0)\n",
      "23/04/04 19:43:32 WARN Utils: Set SPARK_LOCAL_IP if you need to bind to another address\n",
      "23/04/04 19:43:34 WARN NativeCodeLoader: Unable to load native-hadoop library for your platform... using builtin-java classes where applicable\n"
     ]
    },
    {
     "data": {
      "text/plain": [
       "Spark Web UI available at http://192.168.89.130:4040\n",
       "SparkContext available as 'sc' (version = 3.3.1, master = local[*], app id = local-1680633816670)\n",
       "SparkSession available as 'spark'\n"
      ]
     },
     "metadata": {},
     "output_type": "display_data"
    }
   ],
   "source": [
    "import sys\n",
    "\n",
    "from pyspark.sql import SparkSession\n",
    "import pyspark.sql.functions as F\n",
    "from pyspark.sql.types import *\n",
    "\n",
    "from pyspark.ml import Pipeline\n",
    "from pyspark.ml.stat import Correlation\n",
    "from pyspark.ml.feature import VectorAssembler, StringIndexer, OneHotEncoder\n",
    "from pyspark.ml.classification import LinearSVC\n",
    "from pyspark.ml.evaluation import BinaryClassificationEvaluator"
   ]
  },
  {
   "cell_type": "code",
   "execution_count": 3,
   "id": "2b0e9eaf-cc20-4408-9b96-1099e478f7c6",
   "metadata": {
    "tags": []
   },
   "outputs": [
    {
     "name": "stdout",
     "output_type": "stream",
     "text": [
      "23/04/04 19:43:49 WARN SparkSession: Using an existing Spark session; only runtime SQL configurations will take effect.\n"
     ]
    }
   ],
   "source": [
    "from pyspark.sql import SparkSession\n",
    "\n",
    "# build our own SparkSession\n",
    "spark = SparkSession\\\n",
    "    .builder\\\n",
    "    .appName(\"BigData\")\\\n",
    "    .config(\"spark.sql.shuffle.partitions\",6)\\\n",
    "    .config(\"spark.sql.repl.eagereval.enabled\",True)\\\n",
    "    .getOrCreate() "
   ]
  },
  {
   "cell_type": "code",
   "execution_count": 4,
   "id": "329a1522-05be-4f3d-8173-f5c070ffdd0a",
   "metadata": {
    "tags": []
   },
   "outputs": [
    {
     "data": {
      "text/html": [
       "\n",
       "            <div>\n",
       "                <p><b>SparkSession - in-memory</b></p>\n",
       "                \n",
       "        <div>\n",
       "            <p><b>SparkContext</b></p>\n",
       "\n",
       "            <p><a href=\"http://192.168.89.130:4040\">Spark UI</a></p>\n",
       "\n",
       "            <dl>\n",
       "              <dt>Version</dt>\n",
       "                <dd><code>v3.3.1</code></dd>\n",
       "              <dt>Master</dt>\n",
       "                <dd><code>local[*]</code></dd>\n",
       "              <dt>AppName</dt>\n",
       "                <dd><code>pyspark-shell</code></dd>\n",
       "            </dl>\n",
       "        </div>\n",
       "        \n",
       "            </div>\n",
       "        "
      ],
      "text/plain": [
       "<pyspark.sql.session.SparkSession object at 0x7ff2bc121bd0>"
      ]
     },
     "execution_count": 4,
     "metadata": {},
     "output_type": "execute_result"
    }
   ],
   "source": [
    "spark"
   ]
  },
  {
   "cell_type": "markdown",
   "id": "b69aee9e-b38f-495a-bc9c-e602cd20a4e7",
   "metadata": {},
   "source": [
    "### 1ªInicio\n",
    "* Read CSV\n",
    "* Perform EDA\n",
    "\n",
    "\t- Understand the problem\n",
    "\t- Which one makes sense to keep for Ranking"
   ]
  },
  {
   "cell_type": "code",
   "execution_count": 5,
   "id": "b471065c-2cd7-443a-86bc-34f016ccb6e4",
   "metadata": {
    "tags": []
   },
   "outputs": [
    {
     "name": "stdout",
     "output_type": "stream",
     "text": [
      "date_time,site_name,posa_continent,user_location_country,user_location_region,user_location_city,orig_destination_distance,user_id,is_mobile,is_package,channel,srch_ci,srch_co,srch_adults_cnt,srch_children_cnt,srch_rm_cnt,srch_destination_id,srch_destination_type_id,is_booking,cnt,hotel_continent,hotel_country,hotel_market,hotel_cluster\n",
      "2014-08-11 07:46:59,2,3,66,348,48862,2234.2641,12,0,1,9,2014-08-27,2014-08-31,2,0,1,8250,1,0,3,2,50,628,1\n",
      "\n",
      "2014-09-18 08:52:42,2,3,66,462,12565,106.4274,1198182,0,0,0,2014-09-18,2014-09-19,1,0,1,18811,1,1,1,2,50,592,42\n",
      "\n"
     ]
    }
   ],
   "source": [
    "! head -n 2 train.csv\n",
    "! tail -n 1 train.csv"
   ]
  },
  {
   "cell_type": "code",
   "execution_count": 6,
   "id": "a6c9032e-f749-4460-b639-c74c3a16eece",
   "metadata": {
    "tags": []
   },
   "outputs": [],
   "source": [
    "filename = 'train.csv'\n",
    "df_hotels =  spark.read.csv(filename, header=True, inferSchema=\"true\", sep=',')"
   ]
  },
  {
   "cell_type": "markdown",
   "id": "c2a0c4f9-51b2-4f0a-8c61-b0a3928c4e8d",
   "metadata": {},
   "source": [
    "### Check DATA"
   ]
  },
  {
   "cell_type": "code",
   "execution_count": 7,
   "id": "ca5574fc-bbdb-43bc-b206-dc559b6ab166",
   "metadata": {
    "tags": []
   },
   "outputs": [
    {
     "name": "stdout",
     "output_type": "stream",
     "text": [
      "root\n",
      " |-- date_time: timestamp (nullable = true)\n",
      " |-- site_name: integer (nullable = true)\n",
      " |-- posa_continent: integer (nullable = true)\n",
      " |-- user_location_country: integer (nullable = true)\n",
      " |-- user_location_region: integer (nullable = true)\n",
      " |-- user_location_city: integer (nullable = true)\n",
      " |-- orig_destination_distance: double (nullable = true)\n",
      " |-- user_id: integer (nullable = true)\n",
      " |-- is_mobile: integer (nullable = true)\n",
      " |-- is_package: integer (nullable = true)\n",
      " |-- channel: integer (nullable = true)\n",
      " |-- srch_ci: timestamp (nullable = true)\n",
      " |-- srch_co: timestamp (nullable = true)\n",
      " |-- srch_adults_cnt: integer (nullable = true)\n",
      " |-- srch_children_cnt: integer (nullable = true)\n",
      " |-- srch_rm_cnt: integer (nullable = true)\n",
      " |-- srch_destination_id: integer (nullable = true)\n",
      " |-- srch_destination_type_id: integer (nullable = true)\n",
      " |-- is_booking: integer (nullable = true)\n",
      " |-- cnt: integer (nullable = true)\n",
      " |-- hotel_continent: integer (nullable = true)\n",
      " |-- hotel_country: integer (nullable = true)\n",
      " |-- hotel_market: integer (nullable = true)\n",
      " |-- hotel_cluster: integer (nullable = true)\n",
      "\n",
      "-RECORD 0----------------------------------------\n",
      " date_time                 | 2014-08-11 07:46:59 \n",
      " site_name                 | 2                   \n",
      " posa_continent            | 3                   \n",
      " user_location_country     | 66                  \n",
      " user_location_region      | 348                 \n",
      " user_location_city        | 48862               \n",
      " orig_destination_distance | 2234.2641           \n",
      " user_id                   | 12                  \n",
      " is_mobile                 | 0                   \n",
      " is_package                | 1                   \n",
      " channel                   | 9                   \n",
      " srch_ci                   | 2014-08-27 00:00:00 \n",
      " srch_co                   | 2014-08-31 00:00:00 \n",
      " srch_adults_cnt           | 2                   \n",
      " srch_children_cnt         | 0                   \n",
      " srch_rm_cnt               | 1                   \n",
      " srch_destination_id       | 8250                \n",
      " srch_destination_type_id  | 1                   \n",
      " is_booking                | 0                   \n",
      " cnt                       | 3                   \n",
      " hotel_continent           | 2                   \n",
      " hotel_country             | 50                  \n",
      " hotel_market              | 628                 \n",
      " hotel_cluster             | 1                   \n",
      "only showing top 1 row\n",
      "\n"
     ]
    },
    {
     "data": {
      "text/plain": [
       "37670293"
      ]
     },
     "execution_count": 7,
     "metadata": {},
     "output_type": "execute_result"
    }
   ],
   "source": [
    "df_hotels.printSchema()\n",
    "df_hotels.show(1, vertical=True)\n",
    "hotels_count = df_hotels.count()\n",
    "hotels_count"
   ]
  },
  {
   "cell_type": "markdown",
   "id": "18d1471d-6548-4a26-bff3-493d8a88ce80",
   "metadata": {
    "tags": []
   },
   "source": [
    "### **Evaluate DATA**\n"
   ]
  },
  {
   "cell_type": "markdown",
   "id": "8ae292a9-0bfa-429c-8822-0b48615b0ad7",
   "metadata": {},
   "source": [
    "### **Drop column user_id**"
   ]
  },
  {
   "cell_type": "code",
   "execution_count": 8,
   "id": "838df469-d7fd-4fde-96fe-6a0eb0ea1793",
   "metadata": {
    "tags": []
   },
   "outputs": [],
   "source": [
    "df_hotels = df_hotels.drop('user_id')"
   ]
  },
  {
   "cell_type": "code",
   "execution_count": 9,
   "id": "1ae5d66a-7a27-4138-b791-1484e9f5b6f6",
   "metadata": {
    "tags": []
   },
   "outputs": [
    {
     "name": "stdout",
     "output_type": "stream",
     "text": [
      "-RECORD 0----------------------------------------\n",
      " date_time                 | 2014-08-11 07:46:59 \n",
      " site_name                 | 2                   \n",
      " posa_continent            | 3                   \n",
      " user_location_country     | 66                  \n",
      " user_location_region      | 348                 \n",
      " user_location_city        | 48862               \n",
      " orig_destination_distance | 2234.2641           \n",
      " is_mobile                 | 0                   \n",
      " is_package                | 1                   \n",
      " channel                   | 9                   \n",
      " srch_ci                   | 2014-08-27 00:00:00 \n",
      " srch_co                   | 2014-08-31 00:00:00 \n",
      " srch_adults_cnt           | 2                   \n",
      " srch_children_cnt         | 0                   \n",
      " srch_rm_cnt               | 1                   \n",
      " srch_destination_id       | 8250                \n",
      " srch_destination_type_id  | 1                   \n",
      " is_booking                | 0                   \n",
      " cnt                       | 3                   \n",
      " hotel_continent           | 2                   \n",
      " hotel_country             | 50                  \n",
      " hotel_market              | 628                 \n",
      " hotel_cluster             | 1                   \n",
      "only showing top 1 row\n",
      "\n"
     ]
    }
   ],
   "source": [
    "df_hotels.show(1, vertical=True)"
   ]
  },
  {
   "attachments": {},
   "cell_type": "markdown",
   "id": "f60ada7f-f152-4e5d-880d-4be96f57dd32",
   "metadata": {
    "tags": []
   },
   "source": [
    "### Criar nº de noites e ID_hotel"
   ]
  },
  {
   "cell_type": "code",
   "execution_count": 12,
   "id": "7b03d996-1eab-4dca-88e1-bd729fdca43c",
   "metadata": {},
   "outputs": [
    {
     "name": "stdout",
     "output_type": "stream",
     "text": [
      "-RECORD 0----------------------------------------\n",
      " date_time                 | 2014-08-11 07:46:59 \n",
      " site_name                 | 2                   \n",
      " posa_continent            | 3                   \n",
      " user_location_country     | 66                  \n",
      " user_location_region      | 348                 \n",
      " user_location_city        | 48862               \n",
      " orig_destination_distance | 2234.2641           \n",
      " is_mobile                 | 0                   \n",
      " is_package                | 1                   \n",
      " channel                   | 9                   \n",
      " srch_ci                   | 2014-08-27 00:00:00 \n",
      " srch_co                   | 2014-08-31 00:00:00 \n",
      " srch_adults_cnt           | 2                   \n",
      " srch_children_cnt         | 0                   \n",
      " srch_rm_cnt               | 1                   \n",
      " srch_destination_id       | 8250                \n",
      " srch_destination_type_id  | 1                   \n",
      " is_booking                | 0                   \n",
      " cnt                       | 3                   \n",
      " hotel_continent           | 2                   \n",
      " hotel_country             | 50                  \n",
      " hotel_market              | 628                 \n",
      " hotel_cluster             | 1                   \n",
      " Id_hotel                  | 1_628_50_2          \n",
      "-RECORD 1----------------------------------------\n",
      " date_time                 | 2014-08-11 08:22:12 \n",
      " site_name                 | 2                   \n",
      " posa_continent            | 3                   \n",
      " user_location_country     | 66                  \n",
      " user_location_region      | 348                 \n",
      " user_location_city        | 48862               \n",
      " orig_destination_distance | 2234.2641           \n",
      " is_mobile                 | 0                   \n",
      " is_package                | 1                   \n",
      " channel                   | 9                   \n",
      " srch_ci                   | 2014-08-29 00:00:00 \n",
      " srch_co                   | 2014-09-02 00:00:00 \n",
      " srch_adults_cnt           | 2                   \n",
      " srch_children_cnt         | 0                   \n",
      " srch_rm_cnt               | 1                   \n",
      " srch_destination_id       | 8250                \n",
      " srch_destination_type_id  | 1                   \n",
      " is_booking                | 1                   \n",
      " cnt                       | 1                   \n",
      " hotel_continent           | 2                   \n",
      " hotel_country             | 50                  \n",
      " hotel_market              | 628                 \n",
      " hotel_cluster             | 1                   \n",
      " Id_hotel                  | 1_628_50_2          \n",
      "-RECORD 2----------------------------------------\n",
      " date_time                 | 2014-08-11 08:24:33 \n",
      " site_name                 | 2                   \n",
      " posa_continent            | 3                   \n",
      " user_location_country     | 66                  \n",
      " user_location_region      | 348                 \n",
      " user_location_city        | 48862               \n",
      " orig_destination_distance | 2234.2641           \n",
      " is_mobile                 | 0                   \n",
      " is_package                | 0                   \n",
      " channel                   | 9                   \n",
      " srch_ci                   | 2014-08-29 00:00:00 \n",
      " srch_co                   | 2014-09-02 00:00:00 \n",
      " srch_adults_cnt           | 2                   \n",
      " srch_children_cnt         | 0                   \n",
      " srch_rm_cnt               | 1                   \n",
      " srch_destination_id       | 8250                \n",
      " srch_destination_type_id  | 1                   \n",
      " is_booking                | 0                   \n",
      " cnt                       | 1                   \n",
      " hotel_continent           | 2                   \n",
      " hotel_country             | 50                  \n",
      " hotel_market              | 628                 \n",
      " hotel_cluster             | 1                   \n",
      " Id_hotel                  | 1_628_50_2          \n",
      "-RECORD 3----------------------------------------\n",
      " date_time                 | 2014-08-09 18:05:16 \n",
      " site_name                 | 2                   \n",
      " posa_continent            | 3                   \n",
      " user_location_country     | 66                  \n",
      " user_location_region      | 442                 \n",
      " user_location_city        | 35390               \n",
      " orig_destination_distance | 913.1932            \n",
      " is_mobile                 | 0                   \n",
      " is_package                | 0                   \n",
      " channel                   | 3                   \n",
      " srch_ci                   | 2014-11-23 00:00:00 \n",
      " srch_co                   | 2014-11-28 00:00:00 \n",
      " srch_adults_cnt           | 2                   \n",
      " srch_children_cnt         | 0                   \n",
      " srch_rm_cnt               | 1                   \n",
      " srch_destination_id       | 14984               \n",
      " srch_destination_type_id  | 1                   \n",
      " is_booking                | 0                   \n",
      " cnt                       | 1                   \n",
      " hotel_continent           | 2                   \n",
      " hotel_country             | 50                  \n",
      " hotel_market              | 1457                \n",
      " hotel_cluster             | 80                  \n",
      " Id_hotel                  | 80_1457_50_2        \n",
      "-RECORD 4----------------------------------------\n",
      " date_time                 | 2014-08-09 18:08:18 \n",
      " site_name                 | 2                   \n",
      " posa_continent            | 3                   \n",
      " user_location_country     | 66                  \n",
      " user_location_region      | 442                 \n",
      " user_location_city        | 35390               \n",
      " orig_destination_distance | 913.6259            \n",
      " is_mobile                 | 0                   \n",
      " is_package                | 0                   \n",
      " channel                   | 3                   \n",
      " srch_ci                   | 2014-11-23 00:00:00 \n",
      " srch_co                   | 2014-11-28 00:00:00 \n",
      " srch_adults_cnt           | 2                   \n",
      " srch_children_cnt         | 0                   \n",
      " srch_rm_cnt               | 1                   \n",
      " srch_destination_id       | 14984               \n",
      " srch_destination_type_id  | 1                   \n",
      " is_booking                | 0                   \n",
      " cnt                       | 1                   \n",
      " hotel_continent           | 2                   \n",
      " hotel_country             | 50                  \n",
      " hotel_market              | 1457                \n",
      " hotel_cluster             | 21                  \n",
      " Id_hotel                  | 21_1457_50_2        \n",
      "only showing top 5 rows\n",
      "\n"
     ]
    }
   ],
   "source": [
    "df_hotels = df_hotels.withColumn('Id_hotel', \n",
    "                    F.concat(F.col('hotel_cluster'),F.lit('_'), F.col('hotel_market'),F.lit('_'), F.col('hotel_country'),F.lit('_'), F.col('hotel_continent')))\n",
    "df_hotels.show(5,vertical = True)\n"
   ]
  },
  {
   "cell_type": "code",
   "execution_count": 51,
   "id": "82f98b7a-b903-4f01-b7ea-455296691dcd",
   "metadata": {
    "tags": []
   },
   "outputs": [],
   "source": [
    "df_hotels=df_hotels.withColumn(\"n_of_nights\", datediff(F.col(\"srch_co\"),F.col(\"srch_ci\"))-1)"
   ]
  },
  {
   "cell_type": "code",
   "execution_count": 52,
   "id": "240da11b-37cf-4fe1-935c-39c8ba63be32",
   "metadata": {
    "tags": []
   },
   "outputs": [
    {
     "name": "stdout",
     "output_type": "stream",
     "text": [
      "-RECORD 0---------------------------------------\n",
      " date_time                | 2014-08-11 07:46:59 \n",
      " site_name                | 2                   \n",
      " posa_continent           | 3                   \n",
      " user_location_country    | 66                  \n",
      " user_location_region     | 348                 \n",
      " user_location_city       | 48862               \n",
      " is_mobile                | 0                   \n",
      " is_package               | 1                   \n",
      " channel                  | 9                   \n",
      " srch_ci                  | 2014-08-27 00:00:00 \n",
      " srch_co                  | 2014-08-31 00:00:00 \n",
      " srch_adults_cnt          | 2                   \n",
      " srch_children_cnt        | 0                   \n",
      " srch_rm_cnt              | 1                   \n",
      " srch_destination_id      | 8250                \n",
      " srch_destination_type_id | 1                   \n",
      " is_booking               | 0                   \n",
      " cnt                      | 3                   \n",
      " hotel_continent          | 2                   \n",
      " hotel_country            | 50                  \n",
      " hotel_market             | 628                 \n",
      " hotel_cluster            | 1                   \n",
      " Id_hotel                 | 1_628_50_2          \n",
      " n_of_nights              | 3                   \n",
      "-RECORD 1---------------------------------------\n",
      " date_time                | 2014-08-11 08:22:12 \n",
      " site_name                | 2                   \n",
      " posa_continent           | 3                   \n",
      " user_location_country    | 66                  \n",
      " user_location_region     | 348                 \n",
      " user_location_city       | 48862               \n",
      " is_mobile                | 0                   \n",
      " is_package               | 1                   \n",
      " channel                  | 9                   \n",
      " srch_ci                  | 2014-08-29 00:00:00 \n",
      " srch_co                  | 2014-09-02 00:00:00 \n",
      " srch_adults_cnt          | 2                   \n",
      " srch_children_cnt        | 0                   \n",
      " srch_rm_cnt              | 1                   \n",
      " srch_destination_id      | 8250                \n",
      " srch_destination_type_id | 1                   \n",
      " is_booking               | 1                   \n",
      " cnt                      | 1                   \n",
      " hotel_continent          | 2                   \n",
      " hotel_country            | 50                  \n",
      " hotel_market             | 628                 \n",
      " hotel_cluster            | 1                   \n",
      " Id_hotel                 | 1_628_50_2          \n",
      " n_of_nights              | 3                   \n",
      "-RECORD 2---------------------------------------\n",
      " date_time                | 2014-08-11 08:24:33 \n",
      " site_name                | 2                   \n",
      " posa_continent           | 3                   \n",
      " user_location_country    | 66                  \n",
      " user_location_region     | 348                 \n",
      " user_location_city       | 48862               \n",
      " is_mobile                | 0                   \n",
      " is_package               | 0                   \n",
      " channel                  | 9                   \n",
      " srch_ci                  | 2014-08-29 00:00:00 \n",
      " srch_co                  | 2014-09-02 00:00:00 \n",
      " srch_adults_cnt          | 2                   \n",
      " srch_children_cnt        | 0                   \n",
      " srch_rm_cnt              | 1                   \n",
      " srch_destination_id      | 8250                \n",
      " srch_destination_type_id | 1                   \n",
      " is_booking               | 0                   \n",
      " cnt                      | 1                   \n",
      " hotel_continent          | 2                   \n",
      " hotel_country            | 50                  \n",
      " hotel_market             | 628                 \n",
      " hotel_cluster            | 1                   \n",
      " Id_hotel                 | 1_628_50_2          \n",
      " n_of_nights              | 3                   \n",
      "only showing top 3 rows\n",
      "\n"
     ]
    }
   ],
   "source": [
    "df_hotels.show(3,vertical=True)"
   ]
  },
  {
   "cell_type": "markdown",
   "id": "ed7b41d5-fbb2-4a9c-9030-a3f1de4aca45",
   "metadata": {},
   "source": [
    "### **NULLS**"
   ]
  },
  {
   "cell_type": "code",
   "execution_count": 13,
   "id": "f01b3ffd-47da-4f66-ac5e-c5020d544588",
   "metadata": {},
   "outputs": [
    {
     "name": "stdout",
     "output_type": "stream",
     "text": [
      "\n",
      "Nulls in Hotels:\n",
      "Column orig_destination_distance with 13525001 nulls or NaN, out of 37670293 records (35.90%)\n"
     ]
    }
   ],
   "source": [
    "print('\\nNulls in Hotels:')\n",
    "cols_to_forget = ['date_time','srch_ci','srch_co']\n",
    "hotels_cols_interest = [x for x in df_hotels.columns if x not in cols_to_forget]\n",
    "for cl in hotels_cols_interest:\n",
    "    k = df_hotels.select(cl).filter(F.col(cl).isNull() | F.isnan(cl)).count()\n",
    "    if k > 0:\n",
    "        print(f'Column {cl} with {k} nulls or NaN, out of {hotels_count} records ({k*100/hotels_count:.2f}%)')"
   ]
  },
  {
   "cell_type": "code",
   "execution_count": 14,
   "id": "6c6c6752-6049-4bce-9014-6c85d037498a",
   "metadata": {
    "tags": []
   },
   "outputs": [],
   "source": [
    "hotels_cols_interest.remove('orig_destination_distance')\n",
    "df_hotels = df_hotels.drop('orig_destination_distance')"
   ]
  },
  {
   "cell_type": "code",
   "execution_count": 15,
   "id": "04a208be-aa90-4478-937c-2ad9a7506f49",
   "metadata": {
    "tags": []
   },
   "outputs": [
    {
     "name": "stdout",
     "output_type": "stream",
     "text": [
      "-RECORD 0---------------------------------------\n",
      " date_time                | 2014-08-11 07:46:59 \n",
      " site_name                | 2                   \n",
      " posa_continent           | 3                   \n",
      " user_location_country    | 66                  \n",
      " user_location_region     | 348                 \n",
      " user_location_city       | 48862               \n",
      " is_mobile                | 0                   \n",
      " is_package               | 1                   \n",
      " channel                  | 9                   \n",
      " srch_ci                  | 2014-08-27 00:00:00 \n",
      " srch_co                  | 2014-08-31 00:00:00 \n",
      " srch_adults_cnt          | 2                   \n",
      " srch_children_cnt        | 0                   \n",
      " srch_rm_cnt              | 1                   \n",
      " srch_destination_id      | 8250                \n",
      " srch_destination_type_id | 1                   \n",
      " is_booking               | 0                   \n",
      " cnt                      | 3                   \n",
      " hotel_continent          | 2                   \n",
      " hotel_country            | 50                  \n",
      " hotel_market             | 628                 \n",
      " hotel_cluster            | 1                   \n",
      " Id_hotel                 | 1_628_50_2          \n",
      "only showing top 1 row\n",
      "\n"
     ]
    }
   ],
   "source": [
    "df_hotels.show(1, vertical=True)"
   ]
  },
  {
   "cell_type": "markdown",
   "id": "9bfa1e98-0ca7-4eb9-a01f-56acbf51427c",
   "metadata": {},
   "source": [
    "### **Summary to figure out outliers**"
   ]
  },
  {
   "cell_type": "code",
   "execution_count": 53,
   "id": "4b6ff29a-646a-445f-a6b2-05eb332b895f",
   "metadata": {
    "tags": []
   },
   "outputs": [
    {
     "name": "stdout",
     "output_type": "stream",
     "text": [
      "-RECORD 0---------------------------------------\n",
      " summary                  | count               \n",
      " site_name                | 37670293            \n",
      " posa_continent           | 37670293            \n",
      " user_location_country    | 37670293            \n",
      " user_location_region     | 37670293            \n",
      " user_location_city       | 37670293            \n",
      " user_id                  | 37670293            \n",
      " is_mobile                | 37670293            \n",
      " is_package               | 37670293            \n",
      " channel                  | 37670293            \n",
      " srch_adults_cnt          | 37670293            \n",
      " srch_children_cnt        | 37670293            \n",
      " srch_rm_cnt              | 37670293            \n",
      " srch_destination_id      | 37670293            \n",
      " srch_destination_type_id | 37670293            \n",
      " is_booking               | 37670293            \n",
      " cnt                      | 37670293            \n",
      " hotel_continent          | 37670293            \n",
      " hotel_country            | 37670293            \n",
      " hotel_market             | 37670293            \n",
      " hotel_cluster            | 37670293            \n",
      " Id_hotel                 | 37670293            \n",
      "-RECORD 1---------------------------------------\n",
      " summary                  | mean                \n",
      " site_name                | 9.795271329585889   \n",
      " posa_continent           | 2.6804730188851997  \n",
      " user_location_country    | 86.10880194109454   \n",
      " user_location_region     | 308.4060117610447   \n",
      " user_location_city       | 27753.044729330883  \n",
      " user_id                  | 604451.7531778422   \n",
      " is_mobile                | 0.1349265056154461  \n",
      " is_package               | 0.24890422275186444 \n",
      " channel                  | 5.8707613981128315  \n",
      " srch_adults_cnt          | 2.0242958290767743  \n",
      " srch_children_cnt        | 0.3321221579030458  \n",
      " srch_rm_cnt              | 1.1126628083301608  \n",
      " srch_destination_id      | 14441.090543760836  \n",
      " srch_destination_type_id | 2.5822799148389954  \n",
      " is_booking               | 0.07965674702875288 \n",
      " cnt                      | 1.4833839227106622  \n",
      " hotel_continent          | 3.1563047837190967  \n",
      " hotel_country            | 81.29685165974153   \n",
      " hotel_market             | 600.461883638654    \n",
      " hotel_cluster            | 49.80860501934509   \n",
      " Id_hotel                 | null                \n",
      "-RECORD 2---------------------------------------\n",
      " summary                  | stddev              \n",
      " site_name                | 11.9675435665128    \n",
      " posa_continent           | 0.7480393482506577  \n",
      " user_location_country    | 59.24310334783878   \n",
      " user_location_region     | 208.44374973856722  \n",
      " user_location_city       | 16782.553195680346  \n",
      " user_id                  | 350617.4620408585   \n",
      " is_mobile                | 0.34164505966916764 \n",
      " is_package               | 0.43237820899182056 \n",
      " channel                  | 3.71709455862911    \n",
      " srch_adults_cnt          | 0.9116678125665977  \n",
      " srch_children_cnt        | 0.7314980986397146  \n",
      " srch_rm_cnt              | 0.45911549963856946 \n",
      " srch_destination_id      | 11066.302332627309  \n",
      " srch_destination_type_id | 2.153018959399955   \n",
      " is_booking               | 0.2707610600283715  \n",
      " cnt                      | 1.2197755786558424  \n",
      " hotel_continent          | 1.6231886782105662  \n",
      " hotel_country            | 56.171188062887815  \n",
      " hotel_market             | 511.73912727922396  \n",
      " hotel_cluster            | 28.915950805004293  \n",
      " Id_hotel                 | null                \n",
      "-RECORD 3---------------------------------------\n",
      " summary                  | min                 \n",
      " site_name                | 2                   \n",
      " posa_continent           | 0                   \n",
      " user_location_country    | 0                   \n",
      " user_location_region     | 0                   \n",
      " user_location_city       | 0                   \n",
      " user_id                  | 0                   \n",
      " is_mobile                | 0                   \n",
      " is_package               | 0                   \n",
      " channel                  | 0                   \n",
      " srch_adults_cnt          | 0                   \n",
      " srch_children_cnt        | 0                   \n",
      " srch_rm_cnt              | 0                   \n",
      " srch_destination_id      | 0                   \n",
      " srch_destination_type_id | 0                   \n",
      " is_booking               | 0                   \n",
      " cnt                      | 1                   \n",
      " hotel_continent          | 0                   \n",
      " hotel_country            | 0                   \n",
      " hotel_market             | 0                   \n",
      " hotel_cluster            | 0                   \n",
      " Id_hotel                 | 0_1032_88_3         \n",
      "-RECORD 4---------------------------------------\n",
      " summary                  | max                 \n",
      " site_name                | 53                  \n",
      " posa_continent           | 4                   \n",
      " user_location_country    | 239                 \n",
      " user_location_region     | 1027                \n",
      " user_location_city       | 56508               \n",
      " user_id                  | 1198785             \n",
      " is_mobile                | 1                   \n",
      " is_package               | 1                   \n",
      " channel                  | 10                  \n",
      " srch_adults_cnt          | 9                   \n",
      " srch_children_cnt        | 9                   \n",
      " srch_rm_cnt              | 8                   \n",
      " srch_destination_id      | 65107               \n",
      " srch_destination_type_id | 9                   \n",
      " is_booking               | 1                   \n",
      " cnt                      | 269                 \n",
      " hotel_continent          | 6                   \n",
      " hotel_country            | 212                 \n",
      " hotel_market             | 2117                \n",
      " hotel_cluster            | 99                  \n",
      " Id_hotel                 | 9_97_34_0           \n",
      "\n"
     ]
    }
   ],
   "source": [
    "df_hotels.describe(hotels_cols_interest).show(vertical = True)"
   ]
  },
  {
   "cell_type": "code",
   "execution_count": 54,
   "id": "7319eae3-586d-46b3-8f41-00d54b674f25",
   "metadata": {
    "tags": []
   },
   "outputs": [
    {
     "data": {
      "text/plain": [
       "100"
      ]
     },
     "execution_count": 54,
     "metadata": {},
     "output_type": "execute_result"
    }
   ],
   "source": [
    "df_hotels.select('hotel_cluster').distinct().count()"
   ]
  },
  {
   "cell_type": "code",
   "execution_count": 55,
   "id": "1912e062-0621-4a06-8aaf-fec496ff4c15",
   "metadata": {
    "tags": []
   },
   "outputs": [
    {
     "data": {
      "text/plain": [
       "55694"
      ]
     },
     "execution_count": 55,
     "metadata": {},
     "output_type": "execute_result"
    }
   ],
   "source": [
    "df_hotels.select('Id_hotel').distinct().count()"
   ]
  },
  {
   "cell_type": "markdown",
   "id": "2bf3d636-7a86-4ce3-ba7c-ab3f61bc839a",
   "metadata": {},
   "source": [
    "### **UNIQUENESS**"
   ]
  },
  {
   "cell_type": "code",
   "execution_count": 15,
   "id": "faabc16b-7463-4417-936e-38d559a82525",
   "metadata": {
    "tags": []
   },
   "outputs": [
    {
     "name": "stdout",
     "output_type": "stream",
     "text": [
      "\n",
      "Uniqueness in Hotels:\n",
      "Column site_name with 45 distinct values, out of 37670293 records (0.00%)\n",
      "Column posa_continent with 5 distinct values, out of 37670293 records (0.00%)\n",
      "Column user_location_country with 237 distinct values, out of 37670293 records (0.00%)\n",
      "Column user_location_region with 1008 distinct values, out of 37670293 records (0.00%)\n",
      "Column user_location_city with 50447 distinct values, out of 37670293 records (0.13%)\n",
      "Column orig_destination_distance with 8495290 distinct values, out of 37670293 records (22.55%)\n",
      "Column is_mobile with 2 distinct values, out of 37670293 records (0.00%)\n",
      "Column is_package with 2 distinct values, out of 37670293 records (0.00%)\n",
      "Column channel with 11 distinct values, out of 37670293 records (0.00%)\n",
      "Column srch_adults_cnt with 10 distinct values, out of 37670293 records (0.00%)\n",
      "Column srch_children_cnt with 10 distinct values, out of 37670293 records (0.00%)\n",
      "Column srch_rm_cnt with 9 distinct values, out of 37670293 records (0.00%)\n",
      "Column srch_destination_id with 59455 distinct values, out of 37670293 records (0.16%)\n",
      "Column srch_destination_type_id with 10 distinct values, out of 37670293 records (0.00%)\n",
      "Column is_booking with 2 distinct values, out of 37670293 records (0.00%)\n",
      "Column cnt with 104 distinct values, out of 37670293 records (0.00%)\n",
      "Column hotel_continent with 7 distinct values, out of 37670293 records (0.00%)\n",
      "Column hotel_country with 213 distinct values, out of 37670293 records (0.00%)\n",
      "Column hotel_market with 2118 distinct values, out of 37670293 records (0.01%)\n",
      "Column hotel_cluster with 100 distinct values, out of 37670293 records (0.00%)\n"
     ]
    }
   ],
   "source": [
    "print('\\nUniqueness in Hotels:')\n",
    "for cl in hotels_cols_interest:\n",
    "    k = df_hotels.select(cl).distinct().count()\n",
    "    if k > 0:\n",
    "        print(f'Column {cl} with {k} distinct values, out of {hotels_count} records ({k*100/hotels_count:.2f}%)')"
   ]
  },
  {
   "cell_type": "markdown",
   "id": "9fc31664-266c-4907-ad5d-6124ba034eb1",
   "metadata": {},
   "source": [
    "# **Saving clean data**\n"
   ]
  },
  {
   "cell_type": "code",
   "execution_count": null,
   "id": "8e68e18c-7d99-459f-84de-be2224ea0ab6",
   "metadata": {
    "tags": []
   },
   "outputs": [],
   "source": [
    "seed = 5\n",
    "with_replacement = False\n",
    "fraction = 0.01          \n",
    "small_df_hotels = df_hotels.sample(withReplacement=with_replacement, \n",
    "                                               fraction=fraction, seed=seed)\n",
    "small_df_hotels.count()"
   ]
  },
  {
   "cell_type": "code",
   "execution_count": null,
   "id": "17782d9b-9361-468f-a754-b138a2e52c09",
   "metadata": {},
   "outputs": [],
   "source": [
    "small_df_hotels.write.mode(\"overwrite\").parquet(\"small-hotels\")"
   ]
  },
  {
   "cell_type": "markdown",
   "id": "a47e0a04-0e68-4966-b8a7-281e2598b689",
   "metadata": {},
   "source": [
    "### **Final Overview**"
   ]
  },
  {
   "cell_type": "code",
   "execution_count": null,
   "id": "690ef7f1-d4d6-4fc8-9076-50085c006bf6",
   "metadata": {
    "tags": []
   },
   "outputs": [],
   "source": [
    "df_clean = small_df_hotels"
   ]
  },
  {
   "cell_type": "code",
   "execution_count": null,
   "id": "4f8c1877-fe35-44bc-8256-3eb678487773",
   "metadata": {
    "tags": []
   },
   "outputs": [],
   "source": [
    "hotels_count = df_clean.count()\n",
    "hotels_count"
   ]
  },
  {
   "cell_type": "markdown",
   "id": "d1da1e91-168a-449a-ba7f-3a23c206c23f",
   "metadata": {},
   "source": [
    "### **Train Model**"
   ]
  },
  {
   "cell_type": "code",
   "execution_count": 37,
   "id": "57d43857-29f2-4a09-a101-a6b1276067a7",
   "metadata": {
    "tags": []
   },
   "outputs": [],
   "source": [
    "df_clean = spark.read.parquet('small-hotels')"
   ]
  },
  {
   "cell_type": "code",
   "execution_count": 38,
   "id": "d3289236-39fe-4db2-a216-f52e86837cf6",
   "metadata": {
    "tags": []
   },
   "outputs": [
    {
     "name": "stderr",
     "output_type": "stream",
     "text": [
      "[Stage 207:===================================================>   (29 + 2) / 31]\r"
     ]
    },
    {
     "name": "stdout",
     "output_type": "stream",
     "text": [
      "23/03/23 14:20:22 WARN InstanceBuilder$NativeLAPACK: Failed to load implementation from:dev.ludovic.netlib.lapack.JNILAPACK\n",
      "+-------+---------------+\n",
      "|user_id|recommendations|\n",
      "+-------+---------------+\n",
      "+-------+---------------+\n",
      "\n"
     ]
    }
   ],
   "source": [
    "# Importando as bibliotecas necessárias\n",
    "from pyspark.ml.feature import VectorAssembler\n",
    "from pyspark.ml.recommendation import ALS\n",
    "\n",
    "# Criando um vetor com os atributos que serão usados para fazer as recomendações\n",
    "vectorAssembler = VectorAssembler(inputCols=[\"srch_children_cnt\", \"is_mobile\", \"is_booking\", \"is_package\", \"user_location_country\"], outputCol=\"features\")\n",
    "df_clean = vectorAssembler.transform(df_clean)\n",
    "\n",
    "# Separando os dados em conjuntos de treinamento e teste\n",
    "(training, test) = df_clean.randomSplit([0.8, 0.2])\n",
    "\n",
    "# Configurando o modelo ALS (Alternating Least Squares) para fazer as recomendações\n",
    "als = ALS(userCol=\"user_id\", itemCol=\"hotel_cluster\", ratingCol=\"is_booking\", coldStartStrategy=\"drop\")\n",
    "model = als.fit(training)\n",
    "\n",
    "# Fazendo as recomendações para cada usuário com base em seus históricos de reservas e outros atributos\n",
    "recommendations = model.recommendForAllUsers(10)\n",
    "\n",
    "# Mostrando as recomendações para um usuário específico\n",
    "recommendations.filter(recommendations.user_id == 1234).show()"
   ]
  },
  {
   "cell_type": "code",
   "execution_count": 21,
   "id": "6bf0fb95-53a5-4866-8b3c-a51fffc60ce2",
   "metadata": {},
   "outputs": [
    {
     "ename": "NameError",
     "evalue": "name 'recommendations' is not defined",
     "output_type": "error",
     "traceback": [
      "\u001b[0;31m---------------------------------------------------------------------------\u001b[0m",
      "\u001b[0;31mNameError\u001b[0m                                 Traceback (most recent call last)",
      "Cell \u001b[0;32mIn[21], line 1\u001b[0m\n\u001b[0;32m----> 1\u001b[0m \u001b[43mrecommendations\u001b[49m\u001b[38;5;241m.\u001b[39mfilter(recommendations\u001b[38;5;241m.\u001b[39muser_id \u001b[38;5;241m==\u001b[39m \u001b[38;5;241m1234\u001b[39m)\u001b[38;5;241m.\u001b[39mshow()\n",
      "\u001b[0;31mNameError\u001b[0m: name 'recommendations' is not defined"
     ]
    }
   ],
   "source": [
    "recommendations.filter(recommendations.user_id == 1234).show()"
   ]
  },
  {
   "cell_type": "code",
   "execution_count": null,
   "id": "b7cf569c-a7b4-44e2-9d70-838963239028",
   "metadata": {},
   "outputs": [],
   "source": []
  },
  {
   "cell_type": "code",
   "execution_count": null,
   "id": "84d3276e-598f-45b8-a7bb-e773b7778890",
   "metadata": {},
   "outputs": [],
   "source": [
    "df_hotels.groupBy('posa_continent').count().sort(F.desc('count')).show()"
   ]
  },
  {
   "cell_type": "code",
   "execution_count": null,
   "id": "4a260e44",
   "metadata": {},
   "outputs": [],
   "source": [
    "df_hotels.groupBy('site_name').count().sort(F.desc('count')).show()"
   ]
  }
 ],
 "metadata": {
  "kernelspec": {
   "display_name": "Python 3",
   "language": "python",
   "name": "python3"
  },
  "language_info": {
   "file_extension": ".py",
   "help_links": [
    {
     "text": "MetaKernel Magics",
     "url": "https://metakernel.readthedocs.io/en/latest/source/README.html"
    }
   ],
   "mimetype": "text/x-python",
   "name": "python",
   "version": "3.11.2"
  }
 },
 "nbformat": 4,
 "nbformat_minor": 5
}
