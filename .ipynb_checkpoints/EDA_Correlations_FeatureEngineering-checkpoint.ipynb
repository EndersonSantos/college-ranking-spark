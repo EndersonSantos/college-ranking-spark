{
 "cells": [
  {
   "cell_type": "code",
   "execution_count": 1,
   "id": "d8c7b0aa-c1ad-48f9-939c-58e262df4c14",
   "metadata": {
    "tags": []
   },
   "outputs": [
    {
     "name": "stderr",
     "output_type": "stream",
     "text": [
      "Setting default log level to \"WARN\".\n",
      "To adjust logging level use sc.setLogLevel(newLevel). For SparkR, use setLogLevel(newLevel).\n"
     ]
    },
    {
     "name": "stdout",
     "output_type": "stream",
     "text": [
      "23/04/04 21:42:49 WARN NativeCodeLoader: Unable to load native-hadoop library for your platform... using builtin-java classes where applicable\n",
      "23/04/04 21:42:50 WARN Utils: Service 'SparkUI' could not bind on port 4040. Attempting port 4041.\n"
     ]
    }
   ],
   "source": [
    "from pyspark.sql import SparkSession\n",
    "\n",
    "    # build our own SparkSession\n",
    "spark = (SparkSession\n",
    "        .builder\n",
    "        .appName(\"BigData\")\n",
    "        .config(\"spark.sql.shuffle.partitions\",6)\n",
    "        .config(\"spark.sql.repl.eagereval.enabled\",True)\n",
    "        .getOrCreate()\n",
    "        )"
   ]
  },
  {
   "cell_type": "code",
   "execution_count": 16,
   "id": "b8de2581-04de-4e0c-b728-d34fea32c00e",
   "metadata": {
    "tags": []
   },
   "outputs": [],
   "source": [
    "df_hotels = spark.read.parquet('small-hotels')"
   ]
  },
  {
   "cell_type": "code",
   "execution_count": 3,
   "id": "2cd411ba-9d3a-4024-8501-863005d459bf",
   "metadata": {
    "tags": []
   },
   "outputs": [
    {
     "data": {
      "text/plain": [
       "376623"
      ]
     },
     "execution_count": 3,
     "metadata": {},
     "output_type": "execute_result"
    }
   ],
   "source": [
    "hotels_count = df_clean.count()\n",
    "hotels_count"
   ]
  },
  {
   "cell_type": "code",
   "execution_count": 17,
   "id": "6826bb2c-d809-44f3-9af3-de729154d24b",
   "metadata": {
    "tags": []
   },
   "outputs": [],
   "source": [
    "from pyspark.sql import SparkSession\n",
    "import pyspark.sql.functions as F\n",
    "from pyspark.sql.types import *\n",
    "\n",
    "from pyspark.ml import Pipeline\n",
    "from pyspark.ml.stat import Correlation\n",
    "from pyspark.ml.feature import VectorAssembler, StringIndexer, OneHotEncoder\n",
    "from pyspark.ml.classification import LinearSVC\n",
    "from pyspark.ml.evaluation import BinaryClassificationEvaluator\n",
    "\n",
    "import os\n",
    "import sys\n",
    "\n",
    "import numpy as np \n",
    "import pandas as pd  \n",
    "import matplotlib.pyplot as plt\n",
    "import seaborn as sns\n",
    "# from ydata_profiling import ProfileReport\n",
    "import warnings\n",
    "warnings.filterwarnings(\"ignore\")"
   ]
  },
  {
   "cell_type": "code",
   "execution_count": 6,
   "id": "b58d10ea-a513-4670-a0dc-3b9f83b80c75",
   "metadata": {
    "tags": []
   },
   "outputs": [],
   "source": [
    "def plotHistogram(df, xcol, huecol=None):\n",
    "    sns.histplot(data=df, x=xcol, hue=huecol, multiple=\"stack\")"
   ]
  },
  {
   "cell_type": "code",
   "execution_count": 7,
   "id": "450f7974-d1db-4b3f-9f97-15c817253466",
   "metadata": {
    "tags": []
   },
   "outputs": [],
   "source": [
    "def plot(df, xcol, ycol):\n",
    "    sns.lineplot(data=df, x=xcol, y=ycol)"
   ]
  },
  {
   "cell_type": "code",
   "execution_count": 8,
   "id": "ac7c9b3a-2e5d-4c70-9bb9-f6bc105c9cce",
   "metadata": {
    "tags": []
   },
   "outputs": [],
   "source": [
    "def plotBar(df, xcol, ycol, huecol=None):\n",
    "    sns.barplot(data=df, x=xcol, y=ycol, hue=huecol)"
   ]
  },
  {
   "cell_type": "code",
   "execution_count": 9,
   "id": "a1d22f90-95d5-4b29-be01-bd69910cf2e5",
   "metadata": {
    "tags": []
   },
   "outputs": [],
   "source": [
    "def plotScatter(df, xcol, ycol, huecol=None):\n",
    "    sns.scatterplot(data=df, x=xcol, y=ycol, hue=huecol)"
   ]
  },
  {
   "cell_type": "code",
   "execution_count": 10,
   "id": "b693d43a-b67e-461f-953f-cdafccb28b12",
   "metadata": {
    "tags": []
   },
   "outputs": [],
   "source": [
    "def plotScatterMatrix(df, huecol=None):\n",
    "    sns.pairplot(data=df, hue=huecol)"
   ]
  },
  {
   "cell_type": "code",
   "execution_count": 11,
   "id": "4af81ff7-d7dc-44da-8cc3-2315b1f63211",
   "metadata": {
    "tags": []
   },
   "outputs": [],
   "source": [
    "def plotCorrelationMatrix_1(df, annot=False):\n",
    "    # compute the correlation matrix\n",
    "    corr = df.corr()\n",
    "    \n",
    "    # generate a mask for the upper triangle\n",
    "    mask = np.triu(np.ones_like(corr, dtype=bool))\n",
    "\n",
    "    # set up the matplotlib figure\n",
    "    f, ax = plt.subplots(figsize=(11, 9))\n",
    "\n",
    "    # generate a custom diverging colormap\n",
    "    cmap = sns.diverging_palette(230, 20, as_cmap=True)\n",
    "    #cmap='coolwarm'\n",
    "\n",
    "    # draw the heatmap with the mask and correct aspect ratio\n",
    "    sns.heatmap(corr, mask=mask, cmap=cmap, vmax=.3, center=0, annot=annot,\n",
    "            square=True, linewidths=.5, cbar_kws={\"shrink\": .5})"
   ]
  },
  {
   "cell_type": "code",
   "execution_count": 12,
   "id": "69529a5d-c7b1-431b-bdbd-c887bdd347f8",
   "metadata": {
    "tags": []
   },
   "outputs": [],
   "source": [
    "def plotCorrelationMatrix_2(df):\n",
    "    # compute a correlation matrix and convert to long-form\n",
    "    corr_mat = df.corr().stack().reset_index(name=\"correlation\")\n",
    "    # draw each cell as a scatter point with varying size and color\n",
    "    g = sns.relplot(\n",
    "        data=corr_mat,\n",
    "        x=\"level_0\", y=\"level_1\", hue=\"correlation\", size=\"correlation\",\n",
    "        palette=\"vlag\", hue_norm=(-1, 1), edgecolor=\".7\",\n",
    "        height=10, sizes=(50, 250), size_norm=(-.2, .8),\n",
    "    )\n",
    "\n",
    "    # tweak the figure to finalize\n",
    "    g.set(xlabel=\"\", ylabel=\"\", aspect=\"equal\")\n",
    "    g.despine(left=True, bottom=True)\n",
    "    g.ax.margins(.02)\n",
    "    for label in g.ax.get_xticklabels():\n",
    "        label.set_rotation(90)\n",
    "    for artist in g.legend.legendHandles:\n",
    "        artist.set_edgecolor(\".7\")"
   ]
  },
  {
   "cell_type": "code",
   "execution_count": 13,
   "id": "c1d2fcba-ce8f-4e04-81b1-4223ea23fc62",
   "metadata": {
    "tags": []
   },
   "outputs": [],
   "source": [
    "cls_1 = ['site_name', 'user_id', 'is_mobile', 'srch_adults_cnt', 'hotel_cluster', 'is_booking']\n",
    "\n",
    "# numeric types but no nulls\n",
    "cls_2 = ['site_name', 'user_id', 'is_mobile', 'srch_adults_cnt', 'hotel_cluster', 'is_booking', 'hotel_country', 'srch_destination_id', 'is_package']"
   ]
  },
  {
   "cell_type": "code",
   "execution_count": null,
   "id": "53fe115f-67f4-44a8-9245-b6caee5d825f",
   "metadata": {
    "tags": []
   },
   "outputs": [],
   "source": [
    "cols_corr = cls_2\n",
    "\n",
    "vector_col = \"corr_features\"\n",
    "assembler = VectorAssembler(inputCols=cols_corr, outputCol=vector_col)\n",
    "df_vector = assembler.transform(df_clean).select(vector_col)\n",
    "\n",
    "# get correlation matrix - it can be Pearson’s (default) or Spearman’s correlation\n",
    "\n",
    "# corr = Correlation.corr(df_vector, vector_col).head()\n",
    "# print(\"Pearson correlation matrix:\\n\" + str(corr[0]))\n",
    "\n",
    "# corr = Correlation.corr(df_vector, vector_col, \"spearman\").head()\n",
    "# print(\"Spearman correlation matrix:\\n\" + str(corr[0]))\n",
    "\n",
    "corr_matrix = Correlation.corr(df_vector, vector_col).collect()[0][0].toArray().tolist()"
   ]
  },
  {
   "cell_type": "code",
   "execution_count": 28,
   "id": "3c8a070a-196f-499d-ad69-e3dd114a96e8",
   "metadata": {
    "tags": []
   },
   "outputs": [
    {
     "data": {
      "image/png": "[encoded data removed]",
      "text/plain": [
       "<Figure size 1100x900 with 2 Axes>"
      ]
     },
     "metadata": {},
     "output_type": "display_data"
    }
   ],
   "source": [
    "df_plot = pd.DataFrame(data = corr_matrix, index=cols_corr, columns=cols_corr)\n",
    "plotCorrelationMatrix_1(df_plot, annot=True)\n",
    "plt.title('Correlations among numerical features')\n",
    "plt.show()"
   ]
  },
  {
   "cell_type": "markdown",
   "id": "dd28830b-0b9c-4886-8772-d4faf26a2c6d",
   "metadata": {},
   "source": [
    "## Percentage of booking"
   ]
  },
  {
   "cell_type": "code",
   "execution_count": 18,
   "id": "c64f93ab-eb4e-4a9b-9d5a-2f1763efb428",
   "metadata": {},
   "outputs": [
    {
     "name": "stdout",
     "output_type": "stream",
     "text": [
      "Porcentagem de reservas por seção: 7.988359712497643\n"
     ]
    }
   ],
   "source": [
    "from pyspark.sql.functions import mean\n",
    "\n",
    "percent_is_booking = df_hotels.select(mean(df_hotels.is_booking)).collect()[0][0] * 100\n",
    "print(\"Porcentagem de reservas por seção:\", percent_is_booking)"
   ]
  },
  {
   "cell_type": "markdown",
   "id": "956dede8-2ad0-483a-94d6-67c9b8e81ec9",
   "metadata": {},
   "source": [
    "## Percentage of serach with package option"
   ]
  },
  {
   "cell_type": "code",
   "execution_count": 19,
   "id": "56c3ec40-2aea-419a-ad5f-17fffb822123",
   "metadata": {},
   "outputs": [
    {
     "name": "stdout",
     "output_type": "stream",
     "text": [
      "Porcentagem de reservas por seção: 24.78605926881789\n"
     ]
    }
   ],
   "source": [
    "from pyspark.sql.functions import mean\n",
    "\n",
    "percent_is_package = df_hotels.select(mean(df_hotels.is_package)).collect()[0][0] * 100\n",
    "print(\"Porcentagem de reservas por seção:\", percent_is_package)"
   ]
  },
  {
   "cell_type": "markdown",
   "id": "9bea0f42-4f59-4b0a-9bd8-1c296dd51ad8",
   "metadata": {},
   "source": [
    "## Percentage of searches in Mobile"
   ]
  },
  {
   "cell_type": "code",
   "execution_count": 20,
   "id": "c870afe2-5c09-474a-8a2f-314b8981d554",
   "metadata": {},
   "outputs": [
    {
     "name": "stdout",
     "output_type": "stream",
     "text": [
      "Porcentagem de reservas por seção: 13.448461724323794\n"
     ]
    }
   ],
   "source": [
    "from pyspark.sql.functions import mean\n",
    "\n",
    "percent_is_mobile = df_hotels.select(mean(df_hotels.is_mobile)).collect()[0][0] * 100\n",
    "print(\"Porcentagem de reservas por seção:\", percent_is_mobile)\n"
   ]
  },
  {
   "cell_type": "markdown",
   "id": "61bef9ae-8295-4d12-9374-7467fd6e2197",
   "metadata": {},
   "source": [
    "## Percentagem de viajens de users para o mesmo país"
   ]
  },
  {
   "cell_type": "code",
   "execution_count": 42,
   "id": "bdb0e498-73be-452f-b25f-0891ba1af791",
   "metadata": {},
   "outputs": [
    {
     "data": {
      "text/plain": [
       "0.13143116591392454"
      ]
     },
     "execution_count": 42,
     "metadata": {},
     "output_type": "execute_result"
    }
   ],
   "source": [
    "same_country_df = df_hotels.filter(df_hotels.user_location_country == df_hotels.hotel_country)\n",
    "same_country_percentage = (same_country_df.count() / df_hotels.count()) * 100\n",
    "same_country_percentage"
   ]
  },
  {
   "cell_type": "markdown",
   "id": "8033c4ac-8e04-4a38-987a-bdcd14a7ffa8",
   "metadata": {},
   "source": [
    "## Média de Filhos e percentagem de filhos ser 0"
   ]
  },
  {
   "cell_type": "code",
   "execution_count": 47,
   "id": "515ffd6f-beef-4bd2-ad3f-4bd8832ced7c",
   "metadata": {},
   "outputs": [
    {
     "data": {
      "text/plain": [
       "0.27541048992887057"
      ]
     },
     "execution_count": 47,
     "metadata": {},
     "output_type": "execute_result"
    }
   ],
   "source": [
    "from pyspark.sql.functions import avg\n",
    "avg_children_cnt = df_hotels.filter(df_hotels.is_booking == 1).agg(avg(df_hotels.srch_children_cnt)).collect()[0][0]\n",
    "avg_children_cnt"
   ]
  },
  {
   "cell_type": "code",
   "execution_count": 49,
   "id": "98a4fa61-a23e-4b3b-9697-f92d14cbf82a",
   "metadata": {},
   "outputs": [
    {
     "data": {
      "text/plain": [
       "81.1540251279665"
      ]
     },
     "execution_count": 49,
     "metadata": {},
     "output_type": "execute_result"
    }
   ],
   "source": [
    "from pyspark.sql.functions import avg\n",
    "df_filtered = df_hotels.filter(df_hotels.is_booking == 1)\n",
    "avg_children_cnt = df_filtered.agg(avg(df_filtered.srch_children_cnt)).collect()[0][0]\n",
    "pct_avg_children_cnt_zero = df_filtered.filter(df_filtered.srch_children_cnt == 0).count() / df_filtered.count() * 100\n",
    "pct_avg_children_cnt_zero"
   ]
  },
  {
   "cell_type": "markdown",
   "id": "e088868b-1153-4aff-abfb-5a3a856030f3",
   "metadata": {},
   "source": [
    "## Media de pessoas pra reserva"
   ]
  },
  {
   "cell_type": "code",
   "execution_count": 52,
   "id": "6fc78d83-a136-4d3e-8fca-5f4f3e93ed32",
   "metadata": {},
   "outputs": [
    {
     "data": {
      "text/plain": [
       "1.8708036960712624"
      ]
     },
     "execution_count": 52,
     "metadata": {},
     "output_type": "execute_result"
    }
   ],
   "source": [
    "from pyspark.sql.functions import avg\n",
    "df_filtered = df_hotels.filter(df_hotels.is_booking == 1)\n",
    "avg_srch_adults_cnt = df_filtered.agg(avg(df_filtered.srch_adults_cnt)).collect()[0][0]\n",
    "avg_srch_adults_cnt"
   ]
  },
  {
   "cell_type": "code",
   "execution_count": 59,
   "id": "902a3a84-bb1d-4002-9758-1bbc12016adb",
   "metadata": {},
   "outputs": [
    {
     "name": "stdout",
     "output_type": "stream",
     "text": [
      "1:  33.21146047995745\n",
      "2:  55.720268563451434\n"
     ]
    }
   ],
   "source": [
    "from pyspark.sql.functions import col\n",
    "\n",
    "df_filtered = df_hotels.filter(df_hotels.is_booking == 1)\n",
    "total_rows = df_filtered.count()\n",
    "filtered_rows = df_filtered.filter(col(\"srch_adults_cnt\") == 1).count()\n",
    "percentage = (filtered_rows / total_rows) * 100\n",
    "print(\"1: \",percentage)\n",
    "filtered_rows = df_filtered.filter(col(\"srch_adults_cnt\") == 2).count()\n",
    "percentage = (filtered_rows / total_rows) * 100\n",
    "print(\"2: \",percentage)"
   ]
  },
  {
   "cell_type": "markdown",
   "id": "e19be278-146a-4cd3-9322-9e3af9a21fc3",
   "metadata": {},
   "source": [
    "# Estatistica sobre pesquisas em que foram efetuadas a reserva"
   ]
  },
  {
   "cell_type": "markdown",
   "id": "125a8902-2cca-41bc-b68f-c34934347b6a",
   "metadata": {},
   "source": [
    "## Foram mais pra fora do país?"
   ]
  },
  {
   "cell_type": "code",
   "execution_count": 45,
   "id": "0bb7e389-4aca-4ed6-80ed-41e70e85f208",
   "metadata": {},
   "outputs": [
    {
     "data": {
      "text/plain": [
       "0.12962839859070663"
      ]
     },
     "execution_count": 45,
     "metadata": {},
     "output_type": "execute_result"
    }
   ],
   "source": [
    "same_country_booking_df = df_hotels.filter((df_hotels.user_location_country == df_hotels.hotel_country) & (df_hotels.is_booking == 1))\n",
    "same_country_booking_percentage = (same_country_booking_df.count() / df_hotels.filter(df_hotels.is_booking == 1).count()) * 100\n",
    "same_country_booking_percentage"
   ]
  },
  {
   "cell_type": "markdown",
   "id": "1e229647-3362-4d89-9d67-976d188099f5",
   "metadata": {},
   "source": [
    "## Percentagem de pesquisas com pelo menos uma criança no mesmo país"
   ]
  },
  {
   "cell_type": "code",
   "execution_count": 43,
   "id": "ff263873-5cc7-482d-9378-bf34d3fe8d67",
   "metadata": {},
   "outputs": [
    {
     "data": {
      "text/plain": [
       "0.10726907278631416"
      ]
     },
     "execution_count": 43,
     "metadata": {},
     "output_type": "execute_result"
    }
   ],
   "source": [
    "same_country_children_df = df_hotels.filter((df_hotels.user_location_country == df_hotels.hotel_country) & (df_hotels.srch_children_cnt == 0))\n",
    "same_country_children_percentage = (same_country_children_df.count() / df_hotels.count()) * 100\n",
    "same_country_children_percentage"
   ]
  },
  {
   "cell_type": "markdown",
   "id": "476b6a5f-df16-4b6e-a2ed-baaac6e37970",
   "metadata": {},
   "source": [
    "## Quantas reservas em percentagem são feitas por pacote"
   ]
  },
  {
   "cell_type": "code",
   "execution_count": 61,
   "id": "bb867c95-8b75-4f6c-9abb-359a1595e808",
   "metadata": {},
   "outputs": [
    {
     "name": "stdout",
     "output_type": "stream",
     "text": [
      "Percentage of is_package == 1 for is_booking == 1: 86.46%\n"
     ]
    }
   ],
   "source": [
    "from pyspark.sql.functions import col\n",
    "\n",
    "# calcular a quantidade de linhas em que is_booking == 1 e is_package == 1\n",
    "num_is_booking_and_is_package = df_hotels.filter((col(\"is_booking\") == 1) & (col(\"is_package\") == 0)).count()\n",
    "\n",
    "# calcular a quantidade de linhas em que is_booking == 1\n",
    "num_is_booking = df_hotels.filter(col(\"is_booking\") == 1).count()\n",
    "\n",
    "# calcular a porcentagem\n",
    "percentage = (num_is_booking_and_is_package / num_is_booking) * 100\n",
    "\n",
    "print(f\"Percentage of is_package == 1 for is_booking == 1: {percentage:.2f}%\")\n"
   ]
  },
  {
   "cell_type": "markdown",
   "id": "f9090781-434c-495a-8930-4fda6cd5b401",
   "metadata": {},
   "source": [
    "## Percentagem de Users que viajam para outro país"
   ]
  },
  {
   "cell_type": "code",
   "execution_count": 65,
   "id": "f0d66054-5df6-4e81-b910-dc49e450432e",
   "metadata": {},
   "outputs": [
    {
     "name": "stdout",
     "output_type": "stream",
     "text": [
      "A percentagem de posa_continent==hotel_continent para is_booking == 1 é 5.90%\n"
     ]
    }
   ],
   "source": [
    "from pyspark.sql.functions import when, col, sum, count, expr\n",
    "\n",
    "# filtro para is_booking == 1\n",
    "df_booking = df_hotels.filter(col('is_booking') == 1)\n",
    "\n",
    "# criar uma coluna com 1 para quando posa_continent==hotel_continent e 0 para os outros casos\n",
    "df_booking = df_booking.withColumn('continent_match', when(expr('posa_continent = hotel_continent'), 1).otherwise(0))\n",
    "\n",
    "# calcular a percentagem de posa_continent==hotel_continent para is_booking == 1\n",
    "continent_match_pct = df_booking.select((sum(col('continent_match')) / count('*')) * 100).collect()[0][0]\n",
    "\n",
    "print(f\"A percentagem de posa_continent==hotel_continent para is_booking == 1 é {continent_match_pct:.2f}%\")\n"
   ]
  },
  {
   "cell_type": "markdown",
   "id": "d1239598-a02d-4be5-9bf5-dc291c9439b6",
   "metadata": {},
   "source": [
    "# Preprocessing"
   ]
  },
  {
   "cell_type": "markdown",
   "id": "1b544e72-13be-458c-a735-ebc785e872b7",
   "metadata": {},
   "source": [
    "## Create a new column with unique hotels"
   ]
  },
  {
   "cell_type": "code",
   "execution_count": 24,
   "id": "7c2c1417-2818-48b4-b15c-d6232f03a76b",
   "metadata": {},
   "outputs": [
    {
     "name": "stdout",
     "output_type": "stream",
     "text": [
      "-RECORD 0----------------------------------------\n",
      " date_time                 | 2014-06-23 19:34:15 \n",
      " site_name                 | 2                   \n",
      " posa_continent            | 3                   \n",
      " user_location_country     | 66                  \n",
      " user_location_region      | 337                 \n",
      " user_location_city        | 55714               \n",
      " orig_destination_distance | 960.4943            \n",
      " is_mobile                 | 0                   \n",
      " is_package                | 1                   \n",
      " channel                   | 9                   \n",
      " srch_ci                   | 2014-08-24 00:00:00 \n",
      " srch_co                   | 2014-08-27 00:00:00 \n",
      " srch_adults_cnt           | 2                   \n",
      " srch_children_cnt         | 1                   \n",
      " srch_rm_cnt               | 1                   \n",
      " srch_destination_id       | 8268                \n",
      " srch_destination_type_id  | 1                   \n",
      " is_booking                | 0                   \n",
      " cnt                       | 2                   \n",
      " hotel_continent           | 2                   \n",
      " hotel_country             | 50                  \n",
      " hotel_market              | 682                 \n",
      " hotel_cluster             | 18                  \n",
      " Id_hotel                  | 18_682_50_2         \n",
      "-RECORD 1----------------------------------------\n",
      " date_time                 | 2014-06-15 23:56:14 \n",
      " site_name                 | 37                  \n",
      " posa_continent            | 1                   \n",
      " user_location_country     | 69                  \n",
      " user_location_region      | 749                 \n",
      " user_location_city        | 51392               \n",
      " orig_destination_distance | null                \n",
      " is_mobile                 | 0                   \n",
      " is_package                | 0                   \n",
      " channel                   | 0                   \n",
      " srch_ci                   | 2014-08-13 00:00:00 \n",
      " srch_co                   | 2014-08-14 00:00:00 \n",
      " srch_adults_cnt           | 5                   \n",
      " srch_children_cnt         | 4                   \n",
      " srch_rm_cnt               | 3                   \n",
      " srch_destination_id       | 20209               \n",
      " srch_destination_type_id  | 6                   \n",
      " is_booking                | 0                   \n",
      " cnt                       | 2                   \n",
      " hotel_continent           | 6                   \n",
      " hotel_country             | 105                 \n",
      " hotel_market              | 22                  \n",
      " hotel_cluster             | 22                  \n",
      " Id_hotel                  | 22_22_105_6         \n",
      "-RECORD 2----------------------------------------\n",
      " date_time                 | 2013-01-10 09:04:19 \n",
      " site_name                 | 2                   \n",
      " posa_continent            | 3                   \n",
      " user_location_country     | 66                  \n",
      " user_location_region      | 288                 \n",
      " user_location_city        | 18996               \n",
      " orig_destination_distance | 1310.9103           \n",
      " is_mobile                 | 0                   \n",
      " is_package                | 1                   \n",
      " channel                   | 9                   \n",
      " srch_ci                   | 2013-05-29 00:00:00 \n",
      " srch_co                   | 2013-06-03 00:00:00 \n",
      " srch_adults_cnt           | 2                   \n",
      " srch_children_cnt         | 0                   \n",
      " srch_rm_cnt               | 1                   \n",
      " srch_destination_id       | 8791                \n",
      " srch_destination_type_id  | 1                   \n",
      " is_booking                | 0                   \n",
      " cnt                       | 1                   \n",
      " hotel_continent           | 4                   \n",
      " hotel_country             | 8                   \n",
      " hotel_market              | 110                 \n",
      " hotel_cluster             | 83                  \n",
      " Id_hotel                  | 83_110_8_4          \n",
      "-RECORD 3----------------------------------------\n",
      " date_time                 | 2014-09-16 19:50:03 \n",
      " site_name                 | 2                   \n",
      " posa_continent            | 3                   \n",
      " user_location_country     | 66                  \n",
      " user_location_region      | 442                 \n",
      " user_location_city        | 28620               \n",
      " orig_destination_distance | 1512.0173           \n",
      " is_mobile                 | 0                   \n",
      " is_package                | 0                   \n",
      " channel                   | 9                   \n",
      " srch_ci                   | 2014-10-05 00:00:00 \n",
      " srch_co                   | 2014-10-06 00:00:00 \n",
      " srch_adults_cnt           | 1                   \n",
      " srch_children_cnt         | 0                   \n",
      " srch_rm_cnt               | 1                   \n",
      " srch_destination_id       | 12233               \n",
      " srch_destination_type_id  | 6                   \n",
      " is_booking                | 0                   \n",
      " cnt                       | 2                   \n",
      " hotel_continent           | 2                   \n",
      " hotel_country             | 50                  \n",
      " hotel_market              | 675                 \n",
      " hotel_cluster             | 56                  \n",
      " Id_hotel                  | 56_675_50_2         \n",
      "-RECORD 4----------------------------------------\n",
      " date_time                 | 2013-05-17 14:40:14 \n",
      " site_name                 | 2                   \n",
      " posa_continent            | 3                   \n",
      " user_location_country     | 66                  \n",
      " user_location_region      | 220                 \n",
      " user_location_city        | 40105               \n",
      " orig_destination_distance | 4768.0526           \n",
      " is_mobile                 | 1                   \n",
      " is_package                | 0                   \n",
      " channel                   | 9                   \n",
      " srch_ci                   | 2013-07-22 00:00:00 \n",
      " srch_co                   | 2013-07-29 00:00:00 \n",
      " srch_adults_cnt           | 2                   \n",
      " srch_children_cnt         | 3                   \n",
      " srch_rm_cnt               | 1                   \n",
      " srch_destination_id       | 12182               \n",
      " srch_destination_type_id  | 6                   \n",
      " is_booking                | 0                   \n",
      " cnt                       | 1                   \n",
      " hotel_continent           | 2                   \n",
      " hotel_country             | 50                  \n",
      " hotel_market              | 636                 \n",
      " hotel_cluster             | 90                  \n",
      " Id_hotel                  | 90_636_50_2         \n",
      "only showing top 5 rows\n",
      "\n"
     ]
    }
   ],
   "source": [
    "df_hotels = df_hotels.withColumn('Id_hotel', \n",
    "                    F.concat(F.col('hotel_cluster'),F.lit('_'), F.col('hotel_market'),F.lit('_'), F.col('hotel_country'),F.lit('_'), F.col('hotel_continent')))\n",
    "df_hotels.show(5,vertical = True)\n"
   ]
  },
  {
   "cell_type": "code",
   "execution_count": 31,
   "id": "05edf23b-8385-4cf5-8c58-c9fd46f12c2c",
   "metadata": {},
   "outputs": [
    {
     "data": {
      "text/plain": [
       "31668"
      ]
     },
     "execution_count": 31,
     "metadata": {},
     "output_type": "execute_result"
    }
   ],
   "source": [
    "unique_values = df_hotels.select(\"Id_hotel\").distinct().count()\n",
    "unique_values"
   ]
  },
  {
   "cell_type": "markdown",
   "id": "9a6bb1f6-ff88-43ac-8acd-c72b95a4d0e6",
   "metadata": {},
   "source": [
    "# Feature Engineering"
   ]
  },
  {
   "cell_type": "markdown",
   "id": "e28b60ce-c9ce-4463-81c0-0153c6c2bde9",
   "metadata": {},
   "source": [
    "## Create a new column called number of night from time stamp"
   ]
  },
  {
   "cell_type": "markdown",
   "id": "052ea544-9b5a-4b95-94a7-761cbc993aef",
   "metadata": {},
   "source": [
    "Create condition if is 1 leave it 1"
   ]
  },
  {
   "cell_type": "code",
   "execution_count": 25,
   "id": "d82e56e6-5325-4c84-ab45-c0e98366e268",
   "metadata": {},
   "outputs": [],
   "source": [
    "from pyspark.sql.functions import to_timestamp\n",
    "\n",
    "df_hotels = df_hotels.withColumn(\"srch_co\", to_timestamp(df_hotels.srch_co, \"yyyy-MM-dd HH:mm:ss\"))\n",
    "df_hotels = df_hotels.withColumn(\"srch_ci\", to_timestamp(df_hotels.srch_ci, \"yyyy-MM-dd HH:mm:ss\"))\n",
    "\n",
    "from pyspark.sql.functions import datediff\n",
    "from pyspark.sql.functions import unix_timestamp\n",
    "\n",
    "#df_hotels = df_hotels.withColumn(\"num_nights\", datediff(df_hotels.srch_co, df_hotels.srch_ci) - 1)\n",
    "df_hotels = df_hotels.withColumn(\"num_nights\", (unix_timestamp(df_hotels.srch_co) - unix_timestamp(df_hotels.srch_ci)) / 86400 - 1)"
   ]
  },
  {
   "cell_type": "code",
   "execution_count": 26,
   "id": "89e94623-5fd3-451b-a4c6-4aee3de920b1",
   "metadata": {},
   "outputs": [
    {
     "name": "stdout",
     "output_type": "stream",
     "text": [
      "-RECORD 0----------------------------------------\n",
      " date_time                 | 2014-06-23 19:34:15 \n",
      " site_name                 | 2                   \n",
      " posa_continent            | 3                   \n",
      " user_location_country     | 66                  \n",
      " user_location_region      | 337                 \n",
      " user_location_city        | 55714               \n",
      " orig_destination_distance | 960.4943            \n",
      " is_mobile                 | 0                   \n",
      " is_package                | 1                   \n",
      " channel                   | 9                   \n",
      " srch_ci                   | 2014-08-24 00:00:00 \n",
      " srch_co                   | 2014-08-27 00:00:00 \n",
      " srch_adults_cnt           | 2                   \n",
      " srch_children_cnt         | 1                   \n",
      " srch_rm_cnt               | 1                   \n",
      " srch_destination_id       | 8268                \n",
      " srch_destination_type_id  | 1                   \n",
      " is_booking                | 0                   \n",
      " cnt                       | 2                   \n",
      " hotel_continent           | 2                   \n",
      " hotel_country             | 50                  \n",
      " hotel_market              | 682                 \n",
      " hotel_cluster             | 18                  \n",
      " Id_hotel                  | 18_682_50_2         \n",
      " num_nights                | 2.0                 \n",
      "-RECORD 1----------------------------------------\n",
      " date_time                 | 2014-06-15 23:56:14 \n",
      " site_name                 | 37                  \n",
      " posa_continent            | 1                   \n",
      " user_location_country     | 69                  \n",
      " user_location_region      | 749                 \n",
      " user_location_city        | 51392               \n",
      " orig_destination_distance | null                \n",
      " is_mobile                 | 0                   \n",
      " is_package                | 0                   \n",
      " channel                   | 0                   \n",
      " srch_ci                   | 2014-08-13 00:00:00 \n",
      " srch_co                   | 2014-08-14 00:00:00 \n",
      " srch_adults_cnt           | 5                   \n",
      " srch_children_cnt         | 4                   \n",
      " srch_rm_cnt               | 3                   \n",
      " srch_destination_id       | 20209               \n",
      " srch_destination_type_id  | 6                   \n",
      " is_booking                | 0                   \n",
      " cnt                       | 2                   \n",
      " hotel_continent           | 6                   \n",
      " hotel_country             | 105                 \n",
      " hotel_market              | 22                  \n",
      " hotel_cluster             | 22                  \n",
      " Id_hotel                  | 22_22_105_6         \n",
      " num_nights                | 0.0                 \n",
      "-RECORD 2----------------------------------------\n",
      " date_time                 | 2013-01-10 09:04:19 \n",
      " site_name                 | 2                   \n",
      " posa_continent            | 3                   \n",
      " user_location_country     | 66                  \n",
      " user_location_region      | 288                 \n",
      " user_location_city        | 18996               \n",
      " orig_destination_distance | 1310.9103           \n",
      " is_mobile                 | 0                   \n",
      " is_package                | 1                   \n",
      " channel                   | 9                   \n",
      " srch_ci                   | 2013-05-29 00:00:00 \n",
      " srch_co                   | 2013-06-03 00:00:00 \n",
      " srch_adults_cnt           | 2                   \n",
      " srch_children_cnt         | 0                   \n",
      " srch_rm_cnt               | 1                   \n",
      " srch_destination_id       | 8791                \n",
      " srch_destination_type_id  | 1                   \n",
      " is_booking                | 0                   \n",
      " cnt                       | 1                   \n",
      " hotel_continent           | 4                   \n",
      " hotel_country             | 8                   \n",
      " hotel_market              | 110                 \n",
      " hotel_cluster             | 83                  \n",
      " Id_hotel                  | 83_110_8_4          \n",
      " num_nights                | 4.0                 \n",
      "-RECORD 3----------------------------------------\n",
      " date_time                 | 2014-09-16 19:50:03 \n",
      " site_name                 | 2                   \n",
      " posa_continent            | 3                   \n",
      " user_location_country     | 66                  \n",
      " user_location_region      | 442                 \n",
      " user_location_city        | 28620               \n",
      " orig_destination_distance | 1512.0173           \n",
      " is_mobile                 | 0                   \n",
      " is_package                | 0                   \n",
      " channel                   | 9                   \n",
      " srch_ci                   | 2014-10-05 00:00:00 \n",
      " srch_co                   | 2014-10-06 00:00:00 \n",
      " srch_adults_cnt           | 1                   \n",
      " srch_children_cnt         | 0                   \n",
      " srch_rm_cnt               | 1                   \n",
      " srch_destination_id       | 12233               \n",
      " srch_destination_type_id  | 6                   \n",
      " is_booking                | 0                   \n",
      " cnt                       | 2                   \n",
      " hotel_continent           | 2                   \n",
      " hotel_country             | 50                  \n",
      " hotel_market              | 675                 \n",
      " hotel_cluster             | 56                  \n",
      " Id_hotel                  | 56_675_50_2         \n",
      " num_nights                | 0.0                 \n",
      "-RECORD 4----------------------------------------\n",
      " date_time                 | 2013-05-17 14:40:14 \n",
      " site_name                 | 2                   \n",
      " posa_continent            | 3                   \n",
      " user_location_country     | 66                  \n",
      " user_location_region      | 220                 \n",
      " user_location_city        | 40105               \n",
      " orig_destination_distance | 4768.0526           \n",
      " is_mobile                 | 1                   \n",
      " is_package                | 0                   \n",
      " channel                   | 9                   \n",
      " srch_ci                   | 2013-07-22 00:00:00 \n",
      " srch_co                   | 2013-07-29 00:00:00 \n",
      " srch_adults_cnt           | 2                   \n",
      " srch_children_cnt         | 3                   \n",
      " srch_rm_cnt               | 1                   \n",
      " srch_destination_id       | 12182               \n",
      " srch_destination_type_id  | 6                   \n",
      " is_booking                | 0                   \n",
      " cnt                       | 1                   \n",
      " hotel_continent           | 2                   \n",
      " hotel_country             | 50                  \n",
      " hotel_market              | 636                 \n",
      " hotel_cluster             | 90                  \n",
      " Id_hotel                  | 90_636_50_2         \n",
      " num_nights                | 6.0                 \n",
      "only showing top 5 rows\n",
      "\n"
     ]
    }
   ],
   "source": [
    "df_hotels.show(5, vertical=True)"
   ]
  },
  {
   "cell_type": "code",
   "execution_count": null,
   "id": "5e60c2f9-14c2-4065-847a-b9e7907b1598",
   "metadata": {},
   "outputs": [],
   "source": [
    "# Correlations"
   ]
  },
  {
   "cell_type": "code",
   "execution_count": null,
   "id": "c2822ba6-98c1-44f5-97e9-75120d73b764",
   "metadata": {},
   "outputs": [],
   "source": [
    "# Best Viz"
   ]
  }
 ],
 "metadata": {
  "kernelspec": {
   "display_name": "Python 3 (ipykernel)",
   "language": "python",
   "name": "python3"
  },
  "language_info": {
   "codemirror_mode": {
    "name": "ipython",
    "version": 3
   },
   "file_extension": ".py",
   "mimetype": "text/x-python",
   "name": "python",
   "nbconvert_exporter": "python",
   "pygments_lexer": "ipython3",
   "version": "3.10.9"
  }
 },
 "nbformat": 4,
 "nbformat_minor": 5
}
