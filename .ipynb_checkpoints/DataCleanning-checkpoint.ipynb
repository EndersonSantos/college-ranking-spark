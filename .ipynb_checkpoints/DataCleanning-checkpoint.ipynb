{
 "cells": [
  {
   "cell_type": "markdown",
   "id": "38fd3425-fc77-4155-b970-63386b247b90",
   "metadata": {
    "tags": []
   },
   "source": [
    "## Projeto PBD"
   ]
  },
  {
   "cell_type": "code",
   "execution_count": 1,
   "id": "362ecfbb-8033-45df-a055-f033a0223783",
   "metadata": {
    "tags": []
   },
   "outputs": [],
   "source": [
    "import os\n",
    "import sys\n",
    "\n",
    "import numpy as np \n",
    "import pandas as pd  \n",
    "import matplotlib.pyplot as plt\n",
    "import seaborn as sns\n",
    "# from ydata_profiling import ProfileReport\n",
    "import warnings\n",
    "warnings.filterwarnings(\"ignore\")"
   ]
  },
  {
   "cell_type": "code",
   "execution_count": 2,
   "id": "7e416407-1dd4-468c-8d90-d574e9e9fd89",
   "metadata": {
    "tags": []
   },
   "outputs": [],
   "source": [
    "import sys\n",
    "\n",
    "from pyspark.sql import SparkSession\n",
    "import pyspark.sql.functions as F\n",
    "from pyspark.sql.types import *\n",
    "\n",
    "from pyspark.ml import Pipeline\n",
    "from pyspark.ml.stat import Correlation\n",
    "from pyspark.ml.feature import VectorAssembler, StringIndexer, OneHotEncoder\n",
    "from pyspark.ml.classification import LinearSVC\n",
    "from pyspark.ml.evaluation import BinaryClassificationEvaluator"
   ]
  },
  {
   "cell_type": "code",
   "execution_count": 3,
   "id": "2b0e9eaf-cc20-4408-9b96-1099e478f7c6",
   "metadata": {
    "tags": []
   },
   "outputs": [
    {
     "name": "stderr",
     "output_type": "stream",
     "text": [
      "Setting default log level to \"WARN\".\n",
      "To adjust logging level use sc.setLogLevel(newLevel). For SparkR, use setLogLevel(newLevel).\n"
     ]
    },
    {
     "name": "stdout",
     "output_type": "stream",
     "text": [
      "23/04/08 17:17:06 WARN NativeCodeLoader: Unable to load native-hadoop library for your platform... using builtin-java classes where applicable\n"
     ]
    }
   ],
   "source": [
    "from pyspark.sql import SparkSession\n",
    "\n",
    "# build our own SparkSession\n",
    "spark = SparkSession\\\n",
    "    .builder\\\n",
    "    .appName(\"BigData\")\\\n",
    "    .config(\"spark.sql.shuffle.partitions\",6)\\\n",
    "    .config(\"spark.sql.repl.eagereval.enabled\",True)\\\n",
    "    .getOrCreate() "
   ]
  },
  {
   "cell_type": "code",
   "execution_count": 4,
   "id": "329a1522-05be-4f3d-8173-f5c070ffdd0a",
   "metadata": {
    "tags": []
   },
   "outputs": [
    {
     "data": {
      "text/html": [
       "\n",
       "            <div>\n",
       "                <p><b>SparkSession - in-memory</b></p>\n",
       "                \n",
       "        <div>\n",
       "            <p><b>SparkContext</b></p>\n",
       "\n",
       "            <p><a href=\"http://pt-olx-w6h0qt09f3.home:4040\">Spark UI</a></p>\n",
       "\n",
       "            <dl>\n",
       "              <dt>Version</dt>\n",
       "                <dd><code>v3.3.1</code></dd>\n",
       "              <dt>Master</dt>\n",
       "                <dd><code>local[*]</code></dd>\n",
       "              <dt>AppName</dt>\n",
       "                <dd><code>BigData</code></dd>\n",
       "            </dl>\n",
       "        </div>\n",
       "        \n",
       "            </div>\n",
       "        "
      ],
      "text/plain": [
       "<pyspark.sql.session.SparkSession at 0x29581bca0>"
      ]
     },
     "execution_count": 4,
     "metadata": {},
     "output_type": "execute_result"
    }
   ],
   "source": [
    "spark"
   ]
  },
  {
   "cell_type": "markdown",
   "id": "b69aee9e-b38f-495a-bc9c-e602cd20a4e7",
   "metadata": {},
   "source": [
    "### 1ªInicio\n",
    "* Read CSV\n",
    "* Perform EDA\n",
    "\n",
    "\t- Understand the problem\n",
    "\t- Which one makes sense to keep for Ranking"
   ]
  },
  {
   "cell_type": "code",
   "execution_count": 5,
   "id": "b471065c-2cd7-443a-86bc-34f016ccb6e4",
   "metadata": {
    "tags": []
   },
   "outputs": [
    {
     "name": "stdout",
     "output_type": "stream",
     "text": [
      "date_time,site_name,posa_continent,user_location_country,user_location_region,user_location_city,orig_destination_distance,user_id,is_mobile,is_package,channel,srch_ci,srch_co,srch_adults_cnt,srch_children_cnt,srch_rm_cnt,srch_destination_id,srch_destination_type_id,is_booking,cnt,hotel_continent,hotel_country,hotel_market,hotel_cluster\n",
      "2014-08-11 07:46:59,2,3,66,348,48862,2234.2641,12,0,1,9,2014-08-27,2014-08-31,2,0,1,8250,1,0,3,2,50,628,1\n",
      "2014-09-18 08:52:42,2,3,66,462,12565,106.4274,1198182,0,0,0,2014-09-18,2014-09-19,1,0,1,18811,1,1,1,2,50,592,42\n"
     ]
    }
   ],
   "source": [
    "! head -n 2 train.csv\n",
    "! tail -n 1 train.csv"
   ]
  },
  {
   "cell_type": "code",
   "execution_count": 6,
   "id": "a6c9032e-f749-4460-b639-c74c3a16eece",
   "metadata": {
    "tags": []
   },
   "outputs": [
    {
     "name": "stderr",
     "output_type": "stream",
     "text": [
      "                                                                                \r"
     ]
    }
   ],
   "source": [
    "filename = 'train.csv'\n",
    "df_hotels =  spark.read.csv(filename, header=True, inferSchema=\"true\", sep=',')"
   ]
  },
  {
   "cell_type": "markdown",
   "id": "c2a0c4f9-51b2-4f0a-8c61-b0a3928c4e8d",
   "metadata": {},
   "source": [
    "### Check DATA"
   ]
  },
  {
   "cell_type": "code",
   "execution_count": 7,
   "id": "ca5574fc-bbdb-43bc-b206-dc559b6ab166",
   "metadata": {
    "tags": []
   },
   "outputs": [
    {
     "name": "stdout",
     "output_type": "stream",
     "text": [
      "root\n",
      " |-- date_time: timestamp (nullable = true)\n",
      " |-- site_name: integer (nullable = true)\n",
      " |-- posa_continent: integer (nullable = true)\n",
      " |-- user_location_country: integer (nullable = true)\n",
      " |-- user_location_region: integer (nullable = true)\n",
      " |-- user_location_city: integer (nullable = true)\n",
      " |-- orig_destination_distance: double (nullable = true)\n",
      " |-- user_id: integer (nullable = true)\n",
      " |-- is_mobile: integer (nullable = true)\n",
      " |-- is_package: integer (nullable = true)\n",
      " |-- channel: integer (nullable = true)\n",
      " |-- srch_ci: timestamp (nullable = true)\n",
      " |-- srch_co: timestamp (nullable = true)\n",
      " |-- srch_adults_cnt: integer (nullable = true)\n",
      " |-- srch_children_cnt: integer (nullable = true)\n",
      " |-- srch_rm_cnt: integer (nullable = true)\n",
      " |-- srch_destination_id: integer (nullable = true)\n",
      " |-- srch_destination_type_id: integer (nullable = true)\n",
      " |-- is_booking: integer (nullable = true)\n",
      " |-- cnt: integer (nullable = true)\n",
      " |-- hotel_continent: integer (nullable = true)\n",
      " |-- hotel_country: integer (nullable = true)\n",
      " |-- hotel_market: integer (nullable = true)\n",
      " |-- hotel_cluster: integer (nullable = true)\n",
      "\n",
      "-RECORD 0----------------------------------------\n",
      " date_time                 | 2014-08-11 07:46:59 \n",
      " site_name                 | 2                   \n",
      " posa_continent            | 3                   \n",
      " user_location_country     | 66                  \n",
      " user_location_region      | 348                 \n",
      " user_location_city        | 48862               \n",
      " orig_destination_distance | 2234.2641           \n",
      " user_id                   | 12                  \n",
      " is_mobile                 | 0                   \n",
      " is_package                | 1                   \n",
      " channel                   | 9                   \n",
      " srch_ci                   | 2014-08-27 00:00:00 \n",
      " srch_co                   | 2014-08-31 00:00:00 \n",
      " srch_adults_cnt           | 2                   \n",
      " srch_children_cnt         | 0                   \n",
      " srch_rm_cnt               | 1                   \n",
      " srch_destination_id       | 8250                \n",
      " srch_destination_type_id  | 1                   \n",
      " is_booking                | 0                   \n",
      " cnt                       | 3                   \n",
      " hotel_continent           | 2                   \n",
      " hotel_country             | 50                  \n",
      " hotel_market              | 628                 \n",
      " hotel_cluster             | 1                   \n",
      "only showing top 1 row\n",
      "\n"
     ]
    },
    {
     "name": "stderr",
     "output_type": "stream",
     "text": [
      "                                                                                \r"
     ]
    },
    {
     "data": {
      "text/plain": [
       "37670293"
      ]
     },
     "execution_count": 7,
     "metadata": {},
     "output_type": "execute_result"
    }
   ],
   "source": [
    "df_hotels.printSchema()\n",
    "df_hotels.show(1, vertical=True)\n",
    "hotels_count = df_hotels.count()\n",
    "hotels_count"
   ]
  },
  {
   "cell_type": "markdown",
   "id": "18d1471d-6548-4a26-bff3-493d8a88ce80",
   "metadata": {
    "tags": []
   },
   "source": [
    "### **Evaluate DATA**\n"
   ]
  },
  {
   "attachments": {},
   "cell_type": "markdown",
   "id": "f60ada7f-f152-4e5d-880d-4be96f57dd32",
   "metadata": {
    "tags": []
   },
   "source": [
    "## Criar nº de noites e ID_hotel"
   ]
  },
  {
   "cell_type": "code",
   "execution_count": 10,
   "id": "7b03d996-1eab-4dca-88e1-bd729fdca43c",
   "metadata": {},
   "outputs": [
    {
     "name": "stdout",
     "output_type": "stream",
     "text": [
      "-RECORD 0----------------------------------------\n",
      " date_time                 | 2014-08-11 07:46:59 \n",
      " site_name                 | 2                   \n",
      " posa_continent            | 3                   \n",
      " user_location_country     | 66                  \n",
      " user_location_region      | 348                 \n",
      " user_location_city        | 48862               \n",
      " orig_destination_distance | 2234.2641           \n",
      " user_id                   | 12                  \n",
      " is_mobile                 | 0                   \n",
      " is_package                | 1                   \n",
      " channel                   | 9                   \n",
      " srch_ci                   | 2014-08-27 00:00:00 \n",
      " srch_co                   | 2014-08-31 00:00:00 \n",
      " srch_adults_cnt           | 2                   \n",
      " srch_children_cnt         | 0                   \n",
      " srch_rm_cnt               | 1                   \n",
      " srch_destination_id       | 8250                \n",
      " srch_destination_type_id  | 1                   \n",
      " is_booking                | 0                   \n",
      " cnt                       | 3                   \n",
      " hotel_continent           | 2                   \n",
      " hotel_country             | 50                  \n",
      " hotel_market              | 628                 \n",
      " hotel_cluster             | 1                   \n",
      " Id_hotel                  | 1628502             \n",
      "only showing top 1 row\n",
      "\n"
     ]
    }
   ],
   "source": [
    "df_hotels = df_hotels.withColumn('Id_hotel', \n",
    "                    F.concat(F.col('hotel_cluster'), F.col('hotel_market'), F.col('hotel_country'), F.col('hotel_continent')))\n",
    "df_hotels.show(1,vertical = True)\n"
   ]
  },
  {
   "cell_type": "markdown",
   "id": "a0c4eb9f-c7ea-4b3b-8b61-9dcb54295cb6",
   "metadata": {},
   "source": [
    "## Create new column number of nights"
   ]
  },
  {
   "cell_type": "code",
   "execution_count": 11,
   "id": "82f98b7a-b903-4f01-b7ea-455296691dcd",
   "metadata": {
    "tags": []
   },
   "outputs": [],
   "source": [
    "from pyspark.sql.functions import to_timestamp\n",
    "\n",
    "df_hotels = df_hotels.withColumn(\"srch_co\", to_timestamp(df_hotels.srch_co, \"yyyy-MM-dd HH:mm:ss\"))\n",
    "df_hotels = df_hotels.withColumn(\"srch_ci\", to_timestamp(df_hotels.srch_ci, \"yyyy-MM-dd HH:mm:ss\"))\n",
    "\n",
    "from pyspark.sql.functions import datediff\n",
    "from pyspark.sql.functions import unix_timestamp\n",
    "\n",
    "#df_hotels = df_hotels.withColumn(\"num_nights\", datediff(df_hotels.srch_co, df_hotels.srch_ci) - 1)\n",
    "df_hotels = df_hotels.withColumn(\"num_nights\", (unix_timestamp(df_hotels.srch_co) - unix_timestamp(df_hotels.srch_ci)) / 86400)\n",
    "df_hotels = df_hotels.withColumn(\"num_nights\", df_hotels.num_nights.cast(\"integer\"))"
   ]
  },
  {
   "cell_type": "code",
   "execution_count": 12,
   "id": "240da11b-37cf-4fe1-935c-39c8ba63be32",
   "metadata": {
    "tags": []
   },
   "outputs": [
    {
     "name": "stdout",
     "output_type": "stream",
     "text": [
      "23/04/08 17:18:11 WARN package: Truncated the string representation of a plan since it was too large. This behavior can be adjusted by setting 'spark.sql.debug.maxToStringFields'.\n",
      "-RECORD 0----------------------------------------\n",
      " date_time                 | 2014-08-11 07:46:59 \n",
      " site_name                 | 2                   \n",
      " posa_continent            | 3                   \n",
      " user_location_country     | 66                  \n",
      " user_location_region      | 348                 \n",
      " user_location_city        | 48862               \n",
      " orig_destination_distance | 2234.2641           \n",
      " user_id                   | 12                  \n",
      " is_mobile                 | 0                   \n",
      " is_package                | 1                   \n",
      " channel                   | 9                   \n",
      " srch_ci                   | 2014-08-27 00:00:00 \n",
      " srch_co                   | 2014-08-31 00:00:00 \n",
      " srch_adults_cnt           | 2                   \n",
      " srch_children_cnt         | 0                   \n",
      " srch_rm_cnt               | 1                   \n",
      " srch_destination_id       | 8250                \n",
      " srch_destination_type_id  | 1                   \n",
      " is_booking                | 0                   \n",
      " cnt                       | 3                   \n",
      " hotel_continent           | 2                   \n",
      " hotel_country             | 50                  \n",
      " hotel_market              | 628                 \n",
      " hotel_cluster             | 1                   \n",
      " Id_hotel                  | 1628502             \n",
      " num_nights                | 4                   \n",
      "only showing top 1 row\n",
      "\n"
     ]
    }
   ],
   "source": [
    "df_hotels.show(1,vertical=True)"
   ]
  },
  {
   "cell_type": "markdown",
   "id": "d478fd83-dd58-4325-bc3c-135741240670",
   "metadata": {},
   "source": [
    "## Casting number of nights and ID as integers"
   ]
  },
  {
   "cell_type": "code",
   "execution_count": 13,
   "id": "d7643b9f-ed59-4034-839b-1cae1bbb7eeb",
   "metadata": {},
   "outputs": [],
   "source": [
    "df_hotels = df_hotels.withColumn(\"num_nights\", df_hotels.num_nights.cast(\"integer\"))\n",
    "df_hotels = df_hotels.withColumn(\"Id_hotel\", df_hotels.Id_hotel.cast(\"integer\"))"
   ]
  },
  {
   "cell_type": "markdown",
   "id": "ed7b41d5-fbb2-4a9c-9030-a3f1de4aca45",
   "metadata": {},
   "source": [
    "### **Cheking Number of NULLS**"
   ]
  },
  {
   "cell_type": "code",
   "execution_count": 14,
   "id": "f01b3ffd-47da-4f66-ac5e-c5020d544588",
   "metadata": {},
   "outputs": [
    {
     "name": "stdout",
     "output_type": "stream",
     "text": [
      "\n",
      "Nulls in Hotels:\n"
     ]
    },
    {
     "name": "stderr",
     "output_type": "stream",
     "text": [
      "                                                                                \r"
     ]
    },
    {
     "name": "stdout",
     "output_type": "stream",
     "text": [
      "Column orig_destination_distance with 13525001 nulls or NaN, out of 37670293 records (35.90%)\n"
     ]
    },
    {
     "name": "stderr",
     "output_type": "stream",
     "text": [
      "                                                                                \r"
     ]
    },
    {
     "name": "stdout",
     "output_type": "stream",
     "text": [
      "Column Id_hotel with 2723297 nulls or NaN, out of 37670293 records (7.23%)\n"
     ]
    },
    {
     "name": "stderr",
     "output_type": "stream",
     "text": [
      "[Stage 75:======================================================> (30 + 1) / 31]\r"
     ]
    },
    {
     "name": "stdout",
     "output_type": "stream",
     "text": [
      "Column num_nights with 47088 nulls or NaN, out of 37670293 records (0.13%)\n"
     ]
    },
    {
     "name": "stderr",
     "output_type": "stream",
     "text": [
      "                                                                                \r"
     ]
    }
   ],
   "source": [
    "print('\\nNulls in Hotels:')\n",
    "cols_to_forget = ['date_time','srch_ci','srch_co']\n",
    "hotels_cols_interest = [x for x in df_hotels.columns if x not in cols_to_forget]\n",
    "for cl in hotels_cols_interest:\n",
    "    k = df_hotels.select(cl).filter(F.col(cl).isNull() | F.isnan(cl)).count()\n",
    "    if k > 0:\n",
    "        print(f'Column {cl} with {k} nulls or NaN, out of {hotels_count} records ({k*100/hotels_count:.2f}%)')"
   ]
  },
  {
   "cell_type": "markdown",
   "id": "062812d2-272f-48ee-9e83-4f498a2a0f42",
   "metadata": {},
   "source": [
    "## Checking How many orig_destination_distance are nulls per each hotel cluster"
   ]
  },
  {
   "cell_type": "code",
   "execution_count": 15,
   "id": "4ff4340e-676e-4ced-a1b1-26dbaca1ed88",
   "metadata": {},
   "outputs": [
    {
     "name": "stderr",
     "output_type": "stream",
     "text": [
      "[Stage 78:======================================================> (30 + 1) / 31]\r"
     ]
    },
    {
     "name": "stdout",
     "output_type": "stream",
     "text": [
      "-RECORD 0---------------\n",
      " hotel_cluster | 10     \n",
      " null_count    | 139387 \n",
      "-RECORD 1---------------\n",
      " hotel_cluster | 18     \n",
      " null_count    | 130773 \n",
      "-RECORD 2---------------\n",
      " hotel_cluster | 25     \n",
      " null_count    | 215112 \n",
      "-RECORD 3---------------\n",
      " hotel_cluster | 2      \n",
      " null_count    | 200439 \n",
      "-RECORD 4---------------\n",
      " hotel_cluster | 46     \n",
      " null_count    | 332057 \n",
      "-RECORD 5---------------\n",
      " hotel_cluster | 5      \n",
      " null_count    | 275276 \n",
      "-RECORD 6---------------\n",
      " hotel_cluster | 59     \n",
      " null_count    | 232757 \n",
      "-RECORD 7---------------\n",
      " hotel_cluster | 73     \n",
      " null_count    | 81326  \n",
      "-RECORD 8---------------\n",
      " hotel_cluster | 38     \n",
      " null_count    | 146238 \n",
      "-RECORD 9---------------\n",
      " hotel_cluster | 90     \n",
      " null_count    | 136184 \n",
      "only showing top 10 rows\n",
      "\n"
     ]
    },
    {
     "name": "stderr",
     "output_type": "stream",
     "text": [
      "                                                                                \r"
     ]
    }
   ],
   "source": [
    "from pyspark.sql.functions import isnan, when, count, col\n",
    "\n",
    "null_counts = df_hotels.groupBy('hotel_cluster').agg(count(when(isnan(col('orig_destination_distance')) | col('orig_destination_distance').isNull(), True)).alias('null_count'))\n",
    "null_counts.show(10,vertical=True)"
   ]
  },
  {
   "cell_type": "markdown",
   "id": "49d5217d-9ab0-4e8b-b6b3-d8f5aaa449f9",
   "metadata": {},
   "source": [
    "## Numero de vezes que os três primeiros hoteis cluster aparecem"
   ]
  },
  {
   "cell_type": "code",
   "execution_count": 16,
   "id": "75024586-ae44-4f9a-9ef3-36395adb59b9",
   "metadata": {},
   "outputs": [
    {
     "name": "stderr",
     "output_type": "stream",
     "text": [
      "                                                                                \r"
     ]
    },
    {
     "name": "stdout",
     "output_type": "stream",
     "text": [
      "404764\n"
     ]
    },
    {
     "name": "stderr",
     "output_type": "stream",
     "text": [
      "                                                                                \r"
     ]
    },
    {
     "name": "stdout",
     "output_type": "stream",
     "text": [
      "545284\n"
     ]
    },
    {
     "name": "stderr",
     "output_type": "stream",
     "text": [
      "[Stage 87:===================================>                   (20 + 10) / 31]\r"
     ]
    },
    {
     "name": "stdout",
     "output_type": "stream",
     "text": [
      "530591\n"
     ]
    },
    {
     "name": "stderr",
     "output_type": "stream",
     "text": [
      "                                                                                \r"
     ]
    }
   ],
   "source": [
    "count_10 = df_hotels.filter(df_hotels.hotel_cluster == 10).count()\n",
    "print(count_10)\n",
    "count_18 = df_hotels.filter(df_hotels.hotel_cluster == 18).count()\n",
    "print(count_18)\n",
    "count_25 = df_hotels.filter(df_hotels.hotel_cluster == 25).count()\n",
    "print(count_25)\n"
   ]
  },
  {
   "cell_type": "markdown",
   "id": "ca13efdd-2838-49ae-b927-8915ab1bbb9d",
   "metadata": {},
   "source": [
    "## Removing orign_distance"
   ]
  },
  {
   "cell_type": "code",
   "execution_count": 17,
   "id": "83c596cd-b5ed-4b85-ae41-9f7f131cc226",
   "metadata": {},
   "outputs": [],
   "source": [
    "hotels_cols_interest.remove('orig_destination_distance')\n",
    "df_hotels = df_hotels.drop('orig_destination_distance')"
   ]
  },
  {
   "cell_type": "code",
   "execution_count": 18,
   "id": "04a208be-aa90-4478-937c-2ad9a7506f49",
   "metadata": {
    "tags": []
   },
   "outputs": [
    {
     "name": "stdout",
     "output_type": "stream",
     "text": [
      "-RECORD 0---------------------------------------\n",
      " date_time                | 2014-08-11 07:46:59 \n",
      " site_name                | 2                   \n",
      " posa_continent           | 3                   \n",
      " user_location_country    | 66                  \n",
      " user_location_region     | 348                 \n",
      " user_location_city       | 48862               \n",
      " user_id                  | 12                  \n",
      " is_mobile                | 0                   \n",
      " is_package               | 1                   \n",
      " channel                  | 9                   \n",
      " srch_ci                  | 2014-08-27 00:00:00 \n",
      " srch_co                  | 2014-08-31 00:00:00 \n",
      " srch_adults_cnt          | 2                   \n",
      " srch_children_cnt        | 0                   \n",
      " srch_rm_cnt              | 1                   \n",
      " srch_destination_id      | 8250                \n",
      " srch_destination_type_id | 1                   \n",
      " is_booking               | 0                   \n",
      " cnt                      | 3                   \n",
      " hotel_continent          | 2                   \n",
      " hotel_country            | 50                  \n",
      " hotel_market             | 628                 \n",
      " hotel_cluster            | 1                   \n",
      " Id_hotel                 | 1628502             \n",
      " num_nights               | 4                   \n",
      "only showing top 1 row\n",
      "\n"
     ]
    }
   ],
   "source": [
    "df_hotels.show(1, vertical=True)"
   ]
  },
  {
   "cell_type": "markdown",
   "id": "688e8078-44e1-47be-b408-ab6431c4a2cb",
   "metadata": {},
   "source": [
    "## Removing missing lines for Id_hotel and num_nights"
   ]
  },
  {
   "cell_type": "code",
   "execution_count": 19,
   "id": "f795c676-28d9-4e6a-bd58-8e74542125c6",
   "metadata": {},
   "outputs": [],
   "source": [
    "df_hotels = df_hotels.na.drop()"
   ]
  },
  {
   "cell_type": "code",
   "execution_count": 20,
   "id": "95d62e65-9454-4ce2-9d12-a7e0116b80a2",
   "metadata": {},
   "outputs": [
    {
     "name": "stdout",
     "output_type": "stream",
     "text": [
      "-RECORD 0---------------------------------------\n",
      " date_time                | 2014-08-11 07:46:59 \n",
      " site_name                | 2                   \n",
      " posa_continent           | 3                   \n",
      " user_location_country    | 66                  \n",
      " user_location_region     | 348                 \n",
      " user_location_city       | 48862               \n",
      " user_id                  | 12                  \n",
      " is_mobile                | 0                   \n",
      " is_package               | 1                   \n",
      " channel                  | 9                   \n",
      " srch_ci                  | 2014-08-27 00:00:00 \n",
      " srch_co                  | 2014-08-31 00:00:00 \n",
      " srch_adults_cnt          | 2                   \n",
      " srch_children_cnt        | 0                   \n",
      " srch_rm_cnt              | 1                   \n",
      " srch_destination_id      | 8250                \n",
      " srch_destination_type_id | 1                   \n",
      " is_booking               | 0                   \n",
      " cnt                      | 3                   \n",
      " hotel_continent          | 2                   \n",
      " hotel_country            | 50                  \n",
      " hotel_market             | 628                 \n",
      " hotel_cluster            | 1                   \n",
      " Id_hotel                 | 1628502             \n",
      " num_nights               | 4                   \n",
      "only showing top 1 row\n",
      "\n"
     ]
    }
   ],
   "source": [
    "df_hotels.show(1, vertical=True)"
   ]
  },
  {
   "cell_type": "markdown",
   "id": "7a6e62f6-6c11-4f3a-9494-52af974d0b29",
   "metadata": {},
   "source": [
    "## Vendo quantos casos o numero de noites é menor que zero"
   ]
  },
  {
   "cell_type": "code",
   "execution_count": 22,
   "id": "b1112e82-4ffb-4c5f-b5eb-63be1b556d5e",
   "metadata": {},
   "outputs": [
    {
     "name": "stderr",
     "output_type": "stream",
     "text": [
      "[Stage 95:=======================================>                (22 + 9) / 31]\r"
     ]
    },
    {
     "name": "stdout",
     "output_type": "stream",
     "text": [
      "-RECORD 0---------------------------------------\n",
      " date_time                | 2014-12-03 08:08:44 \n",
      " site_name                | 11                  \n",
      " posa_continent           | 3                   \n",
      " user_location_country    | 205                 \n",
      " user_location_region     | 354                 \n",
      " user_location_city       | 41495               \n",
      " user_id                  | 7899                \n",
      " is_mobile                | 0                   \n",
      " is_package               | 0                   \n",
      " channel                  | 9                   \n",
      " srch_ci                  | 2015-11-10 00:00:00 \n",
      " srch_co                  | 2015-09-15 00:00:00 \n",
      " srch_adults_cnt          | 2                   \n",
      " srch_children_cnt        | 0                   \n",
      " srch_rm_cnt              | 1                   \n",
      " srch_destination_id      | 15254               \n",
      " srch_destination_type_id | 5                   \n",
      " is_booking               | 0                   \n",
      " cnt                      | 1                   \n",
      " hotel_continent          | 5                   \n",
      " hotel_country            | 100                 \n",
      " hotel_market             | 796                 \n",
      " hotel_cluster            | 85                  \n",
      " Id_hotel                 | 857961005           \n",
      " num_nights               | -56                 \n",
      "-RECORD 1---------------------------------------\n",
      " date_time                | 2014-12-03 08:08:52 \n",
      " site_name                | 11                  \n",
      " posa_continent           | 3                   \n",
      " user_location_country    | 205                 \n",
      " user_location_region     | 354                 \n",
      " user_location_city       | 41495               \n",
      " user_id                  | 7899                \n",
      " is_mobile                | 0                   \n",
      " is_package               | 0                   \n",
      " channel                  | 9                   \n",
      " srch_ci                  | 2015-11-10 00:00:00 \n",
      " srch_co                  | 2015-09-15 00:00:00 \n",
      " srch_adults_cnt          | 2                   \n",
      " srch_children_cnt        | 0                   \n",
      " srch_rm_cnt              | 1                   \n",
      " srch_destination_id      | 15254               \n",
      " srch_destination_type_id | 5                   \n",
      " is_booking               | 0                   \n",
      " cnt                      | 1                   \n",
      " hotel_continent          | 5                   \n",
      " hotel_country            | 100                 \n",
      " hotel_market             | 796                 \n",
      " hotel_cluster            | 36                  \n",
      " Id_hotel                 | 367961005           \n",
      " num_nights               | -56                 \n",
      "-RECORD 2---------------------------------------\n",
      " date_time                | 2014-10-05 17:13:33 \n",
      " site_name                | 37                  \n",
      " posa_continent           | 1                   \n",
      " user_location_country    | 69                  \n",
      " user_location_region     | 571                 \n",
      " user_location_city       | 25292               \n",
      " user_id                  | 336963              \n",
      " is_mobile                | 0                   \n",
      " is_package               | 1                   \n",
      " channel                  | 3                   \n",
      " srch_ci                  | 2015-12-04 00:00:00 \n",
      " srch_co                  | 2015-04-14 00:00:00 \n",
      " srch_adults_cnt          | 2                   \n",
      " srch_children_cnt        | 1                   \n",
      " srch_rm_cnt              | 1                   \n",
      " srch_destination_id      | 33496               \n",
      " srch_destination_type_id | 1                   \n",
      " is_booking               | 0                   \n",
      " cnt                      | 2                   \n",
      " hotel_continent          | 6                   \n",
      " hotel_country            | 70                  \n",
      " hotel_market             | 768                 \n",
      " hotel_cluster            | 25                  \n",
      " Id_hotel                 | 25768706            \n",
      " num_nights               | -234                \n",
      "\n"
     ]
    },
    {
     "name": "stderr",
     "output_type": "stream",
     "text": [
      "                                                                                \r"
     ]
    }
   ],
   "source": [
    "df_filtered = df_hotels.filter(df_hotels.num_nights < 0).limit(3)\n",
    "df_filtered.show(vertical=True)"
   ]
  },
  {
   "cell_type": "code",
   "execution_count": 23,
   "id": "42159b09-201c-4d78-9b15-e8f621d554bf",
   "metadata": {},
   "outputs": [
    {
     "name": "stderr",
     "output_type": "stream",
     "text": [
      "[Stage 101:=====================================================> (30 + 1) / 31]\r"
     ]
    },
    {
     "name": "stdout",
     "output_type": "stream",
     "text": [
      "A porcentagem de casos em que num_nights é menor que 0 é de: 0.00%\n"
     ]
    },
    {
     "name": "stderr",
     "output_type": "stream",
     "text": [
      "                                                                                \r"
     ]
    }
   ],
   "source": [
    "total_rows = df_hotels.count()\n",
    "df_filtered = df_hotels.filter(df_hotels.num_nights < 0)\n",
    "filtered_rows = df_filtered.count()\n",
    "percentage = (filtered_rows / total_rows) * 100\n",
    "print(\"A porcentagem de casos em que num_nights é menor que 0 é de: {:.2f}%\".format(percentage))"
   ]
  },
  {
   "cell_type": "code",
   "execution_count": 25,
   "id": "db973ff3-04ec-43c6-be87-1a6e469a4862",
   "metadata": {},
   "outputs": [
    {
     "name": "stderr",
     "output_type": "stream",
     "text": [
      "                                                                                \r"
     ]
    },
    {
     "data": {
      "text/plain": [
       "720"
      ]
     },
     "execution_count": 25,
     "metadata": {},
     "output_type": "execute_result"
    }
   ],
   "source": [
    "df_filtered.count()"
   ]
  },
  {
   "cell_type": "markdown",
   "id": "6c7141fd-86ce-4972-bebf-4fbeba58c21f",
   "metadata": {},
   "source": [
    "## Eliminando linhas cujo numero de noites é menor que 0"
   ]
  },
  {
   "cell_type": "code",
   "execution_count": 26,
   "id": "40083710-c3ff-4159-bfa3-340c7e31d685",
   "metadata": {},
   "outputs": [],
   "source": [
    "from pyspark.sql.functions import col\n",
    "\n",
    "df_hotels = df_hotels.filter(~col(\"num_nights\").isin([-1, 0]))"
   ]
  },
  {
   "cell_type": "markdown",
   "id": "9bfa1e98-0ca7-4eb9-a01f-56acbf51427c",
   "metadata": {},
   "source": [
    "### **Summary to figure out outliers**"
   ]
  },
  {
   "cell_type": "code",
   "execution_count": 44,
   "id": "4b6ff29a-646a-445f-a6b2-05eb332b895f",
   "metadata": {
    "tags": []
   },
   "outputs": [
    {
     "name": "stderr",
     "output_type": "stream",
     "text": [
      "[Stage 185:=====================================================> (30 + 1) / 31]\r"
     ]
    },
    {
     "name": "stdout",
     "output_type": "stream",
     "text": [
      "-RECORD 0---------------------------------------\n",
      " summary                  | count               \n",
      " site_name                | 37623205            \n",
      " posa_continent           | 37623205            \n",
      " user_location_country    | 37623205            \n",
      " user_location_region     | 37623205            \n",
      " user_location_city       | 37623205            \n",
      " user_id                  | 37623205            \n",
      " is_mobile                | 37623205            \n",
      " is_package               | 37623205            \n",
      " channel                  | 37623205            \n",
      " srch_adults_cnt          | 37623205            \n",
      " srch_children_cnt        | 37623205            \n",
      " srch_rm_cnt              | 37623205            \n",
      " srch_destination_id      | 37623205            \n",
      " srch_destination_type_id | 37623205            \n",
      " is_booking               | 37623205            \n",
      " cnt                      | 37623205            \n",
      " hotel_continent          | 37623205            \n",
      " hotel_country            | 37623205            \n",
      " hotel_market             | 37623205            \n",
      " hotel_cluster            | 37623205            \n",
      " Id_hotel                 | 37623205            \n",
      " num_nights               | 37623205            \n",
      "-RECORD 1---------------------------------------\n",
      " summary                  | mean                \n",
      " site_name                | 9.790927195064855   \n",
      " posa_continent           | 2.6806382656660963  \n",
      " user_location_country    | 86.11351292373948   \n",
      " user_location_region     | 308.4185486324198   \n",
      " user_location_city       | 27754.079542558906  \n",
      " user_id                  | 604429.19646423     \n",
      " is_mobile                | 0.13483654569035253 \n",
      " is_package               | 0.24904321681260275 \n",
      " channel                  | 5.873411821241705   \n",
      " srch_adults_cnt          | 2.0243628632914183  \n",
      " srch_children_cnt        | 0.33234677906892834 \n",
      " srch_rm_cnt              | 1.112766363205899   \n",
      " srch_destination_id      | 14440.971578338422  \n",
      " srch_destination_type_id | 2.582236733951826   \n",
      " is_booking               | 0.07975644286551345 \n",
      " cnt                      | 1.4835283437442397  \n",
      " hotel_continent          | 3.1562513879399696  \n",
      " hotel_country            | 81.28753765129791   \n",
      " hotel_market             | 600.4239223638709   \n",
      " hotel_cluster            | 49.80639158731958   \n",
      " Id_hotel                 | 3.3603084851489924  \n",
      " num_nights               | 3.3603084851489924  \n",
      "-RECORD 2---------------------------------------\n",
      " summary                  | stddev              \n",
      " site_name                | 11.965922841312793  \n",
      " posa_continent           | 0.7479573946268341  \n",
      " user_location_country    | 59.23636597973362   \n",
      " user_location_region     | 208.42443376419513  \n",
      " user_location_city       | 16782.131417561206  \n",
      " user_id                  | 350597.2516960443   \n",
      " is_mobile                | 0.34154890533754645 \n",
      " is_package               | 0.4324588974031169  \n",
      " channel                  | 3.7158826791677995  \n",
      " srch_adults_cnt          | 0.9120961059596387  \n",
      " srch_children_cnt        | 0.731755870508227   \n",
      " srch_rm_cnt              | 0.4592435960339702  \n",
      " srch_destination_id      | 11065.380431636557  \n",
      " srch_destination_type_id | 2.1532354827046913  \n",
      " is_booking               | 0.27091577037476805 \n",
      " cnt                      | 1.2201378198199313  \n",
      " hotel_continent          | 1.6232022530280268  \n",
      " hotel_country            | 56.16693036878044   \n",
      " hotel_market             | 511.6893794995184   \n",
      " hotel_cluster            | 28.915639967522303  \n",
      " Id_hotel                 | 3.318645629642704   \n",
      " num_nights               | 3.318645629642704   \n",
      "-RECORD 3---------------------------------------\n",
      " summary                  | min                 \n",
      " site_name                | 2                   \n",
      " posa_continent           | 0                   \n",
      " user_location_country    | 0                   \n",
      " user_location_region     | 0                   \n",
      " user_location_city       | 0                   \n",
      " user_id                  | 0                   \n",
      " is_mobile                | 0                   \n",
      " is_package               | 0                   \n",
      " channel                  | 0                   \n",
      " srch_adults_cnt          | 0                   \n",
      " srch_children_cnt        | 0                   \n",
      " srch_rm_cnt              | 0                   \n",
      " srch_destination_id      | 0                   \n",
      " srch_destination_type_id | 0                   \n",
      " is_booking               | 0                   \n",
      " cnt                      | 1                   \n",
      " hotel_continent          | 0                   \n",
      " hotel_country            | 0                   \n",
      " hotel_market             | 0                   \n",
      " hotel_cluster            | 0                   \n",
      " Id_hotel                 | -3651               \n",
      " num_nights               | -3651               \n",
      "-RECORD 4---------------------------------------\n",
      " summary                  | max                 \n",
      " site_name                | 53                  \n",
      " posa_continent           | 4                   \n",
      " user_location_country    | 239                 \n",
      " user_location_region     | 1027                \n",
      " user_location_city       | 56508               \n",
      " user_id                  | 1198785             \n",
      " is_mobile                | 1                   \n",
      " is_package               | 1                   \n",
      " channel                  | 10                  \n",
      " srch_adults_cnt          | 9                   \n",
      " srch_children_cnt        | 9                   \n",
      " srch_rm_cnt              | 8                   \n",
      " srch_destination_id      | 65107               \n",
      " srch_destination_type_id | 9                   \n",
      " is_booking               | 1                   \n",
      " cnt                      | 269                 \n",
      " hotel_continent          | 6                   \n",
      " hotel_country            | 212                 \n",
      " hotel_market             | 2117                \n",
      " hotel_cluster            | 99                  \n",
      " Id_hotel                 | 516                 \n",
      " num_nights               | 516                 \n",
      "\n"
     ]
    },
    {
     "name": "stderr",
     "output_type": "stream",
     "text": [
      "                                                                                \r"
     ]
    }
   ],
   "source": [
    "df_hotels.describe(hotels_cols_interest).show(vertical = True)"
   ]
  },
  {
   "cell_type": "code",
   "execution_count": 45,
   "id": "7319eae3-586d-46b3-8f41-00d54b674f25",
   "metadata": {
    "tags": []
   },
   "outputs": [
    {
     "name": "stderr",
     "output_type": "stream",
     "text": [
      "                                                                                \r"
     ]
    },
    {
     "data": {
      "text/plain": [
       "100"
      ]
     },
     "execution_count": 45,
     "metadata": {},
     "output_type": "execute_result"
    }
   ],
   "source": [
    "df_hotels.select('hotel_cluster').distinct().count()"
   ]
  },
  {
   "cell_type": "code",
   "execution_count": 46,
   "id": "1912e062-0621-4a06-8aaf-fec496ff4c15",
   "metadata": {
    "tags": []
   },
   "outputs": [
    {
     "name": "stderr",
     "output_type": "stream",
     "text": [
      "                                                                                \r"
     ]
    },
    {
     "data": {
      "text/plain": [
       "480"
      ]
     },
     "execution_count": 46,
     "metadata": {},
     "output_type": "execute_result"
    }
   ],
   "source": [
    "df_hotels.select('Id_hotel').distinct().count()"
   ]
  },
  {
   "cell_type": "markdown",
   "id": "2bf3d636-7a86-4ce3-ba7c-ab3f61bc839a",
   "metadata": {},
   "source": [
    "### **UNIQUENESS**"
   ]
  },
  {
   "cell_type": "code",
   "execution_count": 47,
   "id": "faabc16b-7463-4417-936e-38d559a82525",
   "metadata": {
    "tags": []
   },
   "outputs": [
    {
     "name": "stdout",
     "output_type": "stream",
     "text": [
      "\n",
      "Uniqueness in Hotels:\n"
     ]
    },
    {
     "name": "stderr",
     "output_type": "stream",
     "text": [
      "                                                                                \r"
     ]
    },
    {
     "name": "stdout",
     "output_type": "stream",
     "text": [
      "Column site_name with 45 distinct values, out of 37670293 records (0.00%)\n"
     ]
    },
    {
     "name": "stderr",
     "output_type": "stream",
     "text": [
      "                                                                                \r"
     ]
    },
    {
     "name": "stdout",
     "output_type": "stream",
     "text": [
      "Column posa_continent with 5 distinct values, out of 37670293 records (0.00%)\n"
     ]
    },
    {
     "name": "stderr",
     "output_type": "stream",
     "text": [
      "                                                                                \r"
     ]
    },
    {
     "name": "stdout",
     "output_type": "stream",
     "text": [
      "Column user_location_country with 237 distinct values, out of 37670293 records (0.00%)\n"
     ]
    },
    {
     "name": "stderr",
     "output_type": "stream",
     "text": [
      "                                                                                \r"
     ]
    },
    {
     "name": "stdout",
     "output_type": "stream",
     "text": [
      "Column user_location_region with 1008 distinct values, out of 37670293 records (0.00%)\n"
     ]
    },
    {
     "name": "stderr",
     "output_type": "stream",
     "text": [
      "                                                                                \r"
     ]
    },
    {
     "name": "stdout",
     "output_type": "stream",
     "text": [
      "Column user_location_city with 50430 distinct values, out of 37670293 records (0.13%)\n"
     ]
    },
    {
     "name": "stderr",
     "output_type": "stream",
     "text": [
      "                                                                                \r"
     ]
    },
    {
     "name": "stdout",
     "output_type": "stream",
     "text": [
      "Column user_id with 1198671 distinct values, out of 37670293 records (3.18%)\n"
     ]
    },
    {
     "name": "stderr",
     "output_type": "stream",
     "text": [
      "                                                                                \r"
     ]
    },
    {
     "name": "stdout",
     "output_type": "stream",
     "text": [
      "Column is_mobile with 2 distinct values, out of 37670293 records (0.00%)\n"
     ]
    },
    {
     "name": "stderr",
     "output_type": "stream",
     "text": [
      "                                                                                \r"
     ]
    },
    {
     "name": "stdout",
     "output_type": "stream",
     "text": [
      "Column is_package with 2 distinct values, out of 37670293 records (0.00%)\n"
     ]
    },
    {
     "name": "stderr",
     "output_type": "stream",
     "text": [
      "                                                                                \r"
     ]
    },
    {
     "name": "stdout",
     "output_type": "stream",
     "text": [
      "Column channel with 11 distinct values, out of 37670293 records (0.00%)\n"
     ]
    },
    {
     "name": "stderr",
     "output_type": "stream",
     "text": [
      "                                                                                \r"
     ]
    },
    {
     "name": "stdout",
     "output_type": "stream",
     "text": [
      "Column srch_adults_cnt with 10 distinct values, out of 37670293 records (0.00%)\n"
     ]
    },
    {
     "name": "stderr",
     "output_type": "stream",
     "text": [
      "                                                                                \r"
     ]
    },
    {
     "name": "stdout",
     "output_type": "stream",
     "text": [
      "Column srch_children_cnt with 10 distinct values, out of 37670293 records (0.00%)\n"
     ]
    },
    {
     "name": "stderr",
     "output_type": "stream",
     "text": [
      "                                                                                \r"
     ]
    },
    {
     "name": "stdout",
     "output_type": "stream",
     "text": [
      "Column srch_rm_cnt with 9 distinct values, out of 37670293 records (0.00%)\n"
     ]
    },
    {
     "name": "stderr",
     "output_type": "stream",
     "text": [
      "                                                                                \r"
     ]
    },
    {
     "name": "stdout",
     "output_type": "stream",
     "text": [
      "Column srch_destination_id with 59329 distinct values, out of 37670293 records (0.16%)\n"
     ]
    },
    {
     "name": "stderr",
     "output_type": "stream",
     "text": [
      "                                                                                \r"
     ]
    },
    {
     "name": "stdout",
     "output_type": "stream",
     "text": [
      "Column srch_destination_type_id with 10 distinct values, out of 37670293 records (0.00%)\n"
     ]
    },
    {
     "name": "stderr",
     "output_type": "stream",
     "text": [
      "                                                                                \r"
     ]
    },
    {
     "name": "stdout",
     "output_type": "stream",
     "text": [
      "Column is_booking with 2 distinct values, out of 37670293 records (0.00%)\n"
     ]
    },
    {
     "name": "stderr",
     "output_type": "stream",
     "text": [
      "                                                                                \r"
     ]
    },
    {
     "name": "stdout",
     "output_type": "stream",
     "text": [
      "Column cnt with 104 distinct values, out of 37670293 records (0.00%)\n"
     ]
    },
    {
     "name": "stderr",
     "output_type": "stream",
     "text": [
      "                                                                                \r"
     ]
    },
    {
     "name": "stdout",
     "output_type": "stream",
     "text": [
      "Column hotel_continent with 7 distinct values, out of 37670293 records (0.00%)\n"
     ]
    },
    {
     "name": "stderr",
     "output_type": "stream",
     "text": [
      "                                                                                \r"
     ]
    },
    {
     "name": "stdout",
     "output_type": "stream",
     "text": [
      "Column hotel_country with 213 distinct values, out of 37670293 records (0.00%)\n"
     ]
    },
    {
     "name": "stderr",
     "output_type": "stream",
     "text": [
      "                                                                                \r"
     ]
    },
    {
     "name": "stdout",
     "output_type": "stream",
     "text": [
      "Column hotel_market with 2118 distinct values, out of 37670293 records (0.01%)\n"
     ]
    },
    {
     "name": "stderr",
     "output_type": "stream",
     "text": [
      "                                                                                \r"
     ]
    },
    {
     "name": "stdout",
     "output_type": "stream",
     "text": [
      "Column hotel_cluster with 100 distinct values, out of 37670293 records (0.00%)\n"
     ]
    },
    {
     "name": "stderr",
     "output_type": "stream",
     "text": [
      "                                                                                \r"
     ]
    },
    {
     "name": "stdout",
     "output_type": "stream",
     "text": [
      "Column Id_hotel with 480 distinct values, out of 37670293 records (0.00%)\n"
     ]
    },
    {
     "name": "stderr",
     "output_type": "stream",
     "text": [
      "[Stage 326:=====================================================> (30 + 1) / 31]\r"
     ]
    },
    {
     "name": "stdout",
     "output_type": "stream",
     "text": [
      "Column num_nights with 480 distinct values, out of 37670293 records (0.00%)\n"
     ]
    },
    {
     "name": "stderr",
     "output_type": "stream",
     "text": [
      "                                                                                \r"
     ]
    }
   ],
   "source": [
    "print('\\nUniqueness in Hotels:')\n",
    "for cl in hotels_cols_interest:\n",
    "    k = df_hotels.select(cl).distinct().count()\n",
    "    if k > 0:\n",
    "        print(f'Column {cl} with {k} distinct values, out of {hotels_count} records ({k*100/hotels_count:.2f}%)')"
   ]
  },
  {
   "cell_type": "markdown",
   "id": "9fc31664-266c-4907-ad5d-6124ba034eb1",
   "metadata": {},
   "source": [
    "# Saving clean data"
   ]
  },
  {
   "cell_type": "markdown",
   "id": "7062fea7-b14d-473a-9b39-d0f48e7d981a",
   "metadata": {},
   "source": [
    "## Saving a small dataset to analysis and train the model locally"
   ]
  },
  {
   "cell_type": "code",
   "execution_count": 27,
   "id": "8e68e18c-7d99-459f-84de-be2224ea0ab6",
   "metadata": {
    "tags": []
   },
   "outputs": [
    {
     "name": "stderr",
     "output_type": "stream",
     "text": [
      "                                                                                \r"
     ]
    },
    {
     "data": {
      "text/plain": [
       "347693"
      ]
     },
     "execution_count": 27,
     "metadata": {},
     "output_type": "execute_result"
    }
   ],
   "source": [
    "seed = 5\n",
    "with_replacement = False\n",
    "fraction = 0.01          \n",
    "small_df_hotels = df_hotels.sample(withReplacement=with_replacement, \n",
    "                                               fraction=fraction, seed=seed)\n",
    "small_df_hotels.count()"
   ]
  },
  {
   "cell_type": "code",
   "execution_count": 28,
   "id": "17782d9b-9361-468f-a754-b138a2e52c09",
   "metadata": {},
   "outputs": [
    {
     "name": "stdout",
     "output_type": "stream",
     "text": [
      "23/04/08 17:42:21 WARN MemoryManager: Total allocation exceeds 95.00% (1,020,054,720 bytes) of heap memory\n",
      "Scaling row group sizes to 95.00% for 8 writers\n",
      "23/04/08 17:42:21 WARN MemoryManager: Total allocation exceeds 95.00% (1,020,054,720 bytes) of heap memory\n",
      "Scaling row group sizes to 84.44% for 9 writers\n",
      "23/04/08 17:42:21 WARN MemoryManager: Total allocation exceeds 95.00% (1,020,054,720 bytes) of heap memory\n",
      "Scaling row group sizes to 76.00% for 10 writers\n"
     ]
    },
    {
     "name": "stderr",
     "output_type": "stream",
     "text": [
      "[Stage 110:>                                                      (0 + 10) / 31]\r"
     ]
    },
    {
     "name": "stdout",
     "output_type": "stream",
     "text": [
      "23/04/08 17:42:26 WARN MemoryManager: Total allocation exceeds 95.00% (1,020,054,720 bytes) of heap memory\n",
      "Scaling row group sizes to 84.44% for 9 writers\n",
      "23/04/08 17:42:26 WARN MemoryManager: Total allocation exceeds 95.00% (1,020,054,720 bytes) of heap memory\n",
      "Scaling row group sizes to 95.00% for 8 writers\n",
      "23/04/08 17:42:26 WARN MemoryManager: Total allocation exceeds 95.00% (1,020,054,720 bytes) of heap memory\n",
      "Scaling row group sizes to 95.00% for 8 writers\n",
      "23/04/08 17:42:26 WARN MemoryManager: Total allocation exceeds 95.00% (1,020,054,720 bytes) of heap memory\n",
      "Scaling row group sizes to 84.44% for 9 writers\n"
     ]
    },
    {
     "name": "stderr",
     "output_type": "stream",
     "text": [
      "[Stage 110:=================>                                    (10 + 10) / 31]\r"
     ]
    },
    {
     "name": "stdout",
     "output_type": "stream",
     "text": [
      "23/04/08 17:42:26 WARN MemoryManager: Total allocation exceeds 95.00% (1,020,054,720 bytes) of heap memory\n",
      "Scaling row group sizes to 76.00% for 10 writers\n",
      "23/04/08 17:42:30 WARN MemoryManager: Total allocation exceeds 95.00% (1,020,054,720 bytes) of heap memory\n",
      "Scaling row group sizes to 84.44% for 9 writers\n",
      "23/04/08 17:42:30 WARN MemoryManager: Total allocation exceeds 95.00% (1,020,054,720 bytes) of heap memory\n",
      "Scaling row group sizes to 95.00% for 8 writers\n",
      "23/04/08 17:42:30 WARN MemoryManager: Total allocation exceeds 95.00% (1,020,054,720 bytes) of heap memory\n",
      "Scaling row group sizes to 95.00% for 8 writers\n",
      "23/04/08 17:42:30 WARN MemoryManager: Total allocation exceeds 95.00% (1,020,054,720 bytes) of heap memory\n",
      "Scaling row group sizes to 84.44% for 9 writers\n",
      "23/04/08 17:42:30 WARN MemoryManager: Total allocation exceeds 95.00% (1,020,054,720 bytes) of heap memory\n",
      "Scaling row group sizes to 76.00% for 10 writers\n",
      "23/04/08 17:42:30 WARN MemoryManager: Total allocation exceeds 95.00% (1,020,054,720 bytes) of heap memory\n",
      "Scaling row group sizes to 84.44% for 9 writers\n"
     ]
    },
    {
     "name": "stderr",
     "output_type": "stream",
     "text": [
      "[Stage 110:========================>                             (14 + 10) / 31]\r"
     ]
    },
    {
     "name": "stdout",
     "output_type": "stream",
     "text": [
      "23/04/08 17:42:30 WARN MemoryManager: Total allocation exceeds 95.00% (1,020,054,720 bytes) of heap memory\n",
      "Scaling row group sizes to 76.00% for 10 writers\n",
      "23/04/08 17:42:30 WARN MemoryManager: Total allocation exceeds 95.00% (1,020,054,720 bytes) of heap memory\n",
      "Scaling row group sizes to 84.44% for 9 writers\n",
      "23/04/08 17:42:30 WARN MemoryManager: Total allocation exceeds 95.00% (1,020,054,720 bytes) of heap memory\n",
      "Scaling row group sizes to 95.00% for 8 writers\n",
      "23/04/08 17:42:30 WARN MemoryManager: Total allocation exceeds 95.00% (1,020,054,720 bytes) of heap memory\n",
      "Scaling row group sizes to 95.00% for 8 writers\n",
      "23/04/08 17:42:30 WARN MemoryManager: Total allocation exceeds 95.00% (1,020,054,720 bytes) of heap memory\n",
      "Scaling row group sizes to 95.00% for 8 writers\n"
     ]
    },
    {
     "name": "stderr",
     "output_type": "stream",
     "text": [
      "[Stage 110:===============================>                      (18 + 10) / 31]\r"
     ]
    },
    {
     "name": "stdout",
     "output_type": "stream",
     "text": [
      "23/04/08 17:42:30 WARN MemoryManager: Total allocation exceeds 95.00% (1,020,054,720 bytes) of heap memory\n",
      "Scaling row group sizes to 95.00% for 8 writers\n",
      "23/04/08 17:42:30 WARN MemoryManager: Total allocation exceeds 95.00% (1,020,054,720 bytes) of heap memory\n",
      "Scaling row group sizes to 84.44% for 9 writers\n",
      "23/04/08 17:42:30 WARN MemoryManager: Total allocation exceeds 95.00% (1,020,054,720 bytes) of heap memory\n",
      "Scaling row group sizes to 95.00% for 8 writers\n",
      "23/04/08 17:42:30 WARN MemoryManager: Total allocation exceeds 95.00% (1,020,054,720 bytes) of heap memory\n",
      "Scaling row group sizes to 84.44% for 9 writers\n",
      "23/04/08 17:42:30 WARN MemoryManager: Total allocation exceeds 95.00% (1,020,054,720 bytes) of heap memory\n",
      "Scaling row group sizes to 76.00% for 10 writers\n"
     ]
    },
    {
     "name": "stderr",
     "output_type": "stream",
     "text": [
      "[Stage 110:==================================>                   (20 + 10) / 31]\r"
     ]
    },
    {
     "name": "stdout",
     "output_type": "stream",
     "text": [
      "23/04/08 17:42:34 WARN MemoryManager: Total allocation exceeds 95.00% (1,020,054,720 bytes) of heap memory\n",
      "Scaling row group sizes to 84.44% for 9 writers\n",
      "23/04/08 17:42:34 WARN MemoryManager: Total allocation exceeds 95.00% (1,020,054,720 bytes) of heap memory\n",
      "Scaling row group sizes to 95.00% for 8 writers\n"
     ]
    },
    {
     "name": "stderr",
     "output_type": "stream",
     "text": [
      "                                                                                \r"
     ]
    }
   ],
   "source": [
    "small_df_hotels.write.mode(\"overwrite\").parquet(\"small-hotels\")"
   ]
  },
  {
   "cell_type": "markdown",
   "id": "5e4b13b0-bdd9-473e-8047-78a02e5788a5",
   "metadata": {},
   "source": [
    "## Saving the whole dataset for training the model in AWS"
   ]
  },
  {
   "cell_type": "code",
   "execution_count": 29,
   "id": "233ca301-09e0-456a-8b2d-f969f7127ae0",
   "metadata": {},
   "outputs": [],
   "source": [
    "hotels_cols_interest.remove('hotel_cluster')\n",
    "hotels_cols_interest.remove('hotel_market')\n",
    "hotels_cols_interest.remove('hotel_country')\n",
    "hotels_cols_interest.remove('hotel_continent')\n",
    "df_hotels = df_hotels.select(hotels_cols_interest) "
   ]
  },
  {
   "cell_type": "code",
   "execution_count": 30,
   "id": "754123a6-854b-42d7-ac59-d08d5c9a6a3a",
   "metadata": {},
   "outputs": [
    {
     "name": "stderr",
     "output_type": "stream",
     "text": [
      "                                                                                \r"
     ]
    },
    {
     "data": {
      "text/plain": [
       "34759708"
      ]
     },
     "execution_count": 30,
     "metadata": {},
     "output_type": "execute_result"
    }
   ],
   "source": [
    "seed = 5\n",
    "with_replacement = False\n",
    "fraction = 1.0          \n",
    "whole_df_hotels = df_hotels.sample(withReplacement=with_replacement, \n",
    "                                               fraction=fraction, seed=seed)\n",
    "whole_df_hotels.count()"
   ]
  },
  {
   "cell_type": "code",
   "execution_count": 31,
   "id": "366ba996-2d48-4b91-9691-eeb57c39f7ed",
   "metadata": {},
   "outputs": [
    {
     "name": "stdout",
     "output_type": "stream",
     "text": [
      "23/04/08 17:42:47 WARN MemoryManager: Total allocation exceeds 95.00% (1,020,054,720 bytes) of heap memory\n",
      "Scaling row group sizes to 95.00% for 8 writers\n",
      "23/04/08 17:42:47 WARN MemoryManager: Total allocation exceeds 95.00% (1,020,054,720 bytes) of heap memory\n",
      "Scaling row group sizes to 84.44% for 9 writers\n",
      "23/04/08 17:42:47 WARN MemoryManager: Total allocation exceeds 95.00% (1,020,054,720 bytes) of heap memory\n",
      "Scaling row group sizes to 76.00% for 10 writers\n"
     ]
    },
    {
     "name": "stderr",
     "output_type": "stream",
     "text": [
      "[Stage 114:>                                                      (0 + 10) / 31]\r"
     ]
    },
    {
     "name": "stdout",
     "output_type": "stream",
     "text": [
      "23/04/08 17:42:53 WARN MemoryManager: Total allocation exceeds 95.00% (1,020,054,720 bytes) of heap memory\n",
      "Scaling row group sizes to 84.44% for 9 writers\n",
      "23/04/08 17:42:53 WARN MemoryManager: Total allocation exceeds 95.00% (1,020,054,720 bytes) of heap memory\n",
      "Scaling row group sizes to 95.00% for 8 writers\n",
      "23/04/08 17:42:53 WARN MemoryManager: Total allocation exceeds 95.00% (1,020,054,720 bytes) of heap memory\n",
      "Scaling row group sizes to 84.44% for 9 writers\n",
      "23/04/08 17:42:53 WARN MemoryManager: Total allocation exceeds 95.00% (1,020,054,720 bytes) of heap memory\n",
      "Scaling row group sizes to 95.00% for 8 writers\n"
     ]
    },
    {
     "name": "stderr",
     "output_type": "stream",
     "text": [
      "[Stage 114:============>                                          (7 + 10) / 31]\r"
     ]
    },
    {
     "name": "stdout",
     "output_type": "stream",
     "text": [
      "23/04/08 17:42:53 WARN MemoryManager: Total allocation exceeds 95.00% (1,020,054,720 bytes) of heap memory\n",
      "Scaling row group sizes to 95.00% for 8 writers\n",
      "23/04/08 17:42:53 WARN MemoryManager: Total allocation exceeds 95.00% (1,020,054,720 bytes) of heap memory\n",
      "Scaling row group sizes to 95.00% for 8 writers\n",
      "23/04/08 17:42:53 WARN MemoryManager: Total allocation exceeds 95.00% (1,020,054,720 bytes) of heap memory\n",
      "Scaling row group sizes to 84.44% for 9 writers\n",
      "23/04/08 17:42:53 WARN MemoryManager: Total allocation exceeds 95.00% (1,020,054,720 bytes) of heap memory\n",
      "Scaling row group sizes to 95.00% for 8 writers\n",
      "23/04/08 17:42:53 WARN MemoryManager: Total allocation exceeds 95.00% (1,020,054,720 bytes) of heap memory\n",
      "Scaling row group sizes to 84.44% for 9 writers\n",
      "23/04/08 17:42:54 WARN MemoryManager: Total allocation exceeds 95.00% (1,020,054,720 bytes) of heap memory\n",
      "Scaling row group sizes to 76.00% for 10 writers\n"
     ]
    },
    {
     "name": "stderr",
     "output_type": "stream",
     "text": [
      "[Stage 114:=================>                                    (10 + 10) / 31]\r"
     ]
    },
    {
     "name": "stdout",
     "output_type": "stream",
     "text": [
      "23/04/08 17:42:59 WARN MemoryManager: Total allocation exceeds 95.00% (1,020,054,720 bytes) of heap memory\n",
      "Scaling row group sizes to 84.44% for 9 writers\n",
      "23/04/08 17:42:59 WARN MemoryManager: Total allocation exceeds 95.00% (1,020,054,720 bytes) of heap memory\n",
      "Scaling row group sizes to 95.00% for 8 writers\n",
      "23/04/08 17:42:59 WARN MemoryManager: Total allocation exceeds 95.00% (1,020,054,720 bytes) of heap memory\n",
      "Scaling row group sizes to 84.44% for 9 writers\n",
      "23/04/08 17:42:59 WARN MemoryManager: Total allocation exceeds 95.00% (1,020,054,720 bytes) of heap memory\n",
      "Scaling row group sizes to 95.00% for 8 writers\n",
      "23/04/08 17:42:59 WARN MemoryManager: Total allocation exceeds 95.00% (1,020,054,720 bytes) of heap memory\n",
      "Scaling row group sizes to 84.44% for 9 writers\n",
      "23/04/08 17:42:59 WARN MemoryManager: Total allocation exceeds 95.00% (1,020,054,720 bytes) of heap memory\n",
      "Scaling row group sizes to 95.00% for 8 writers\n",
      "23/04/08 17:42:59 WARN MemoryManager: Total allocation exceeds 95.00% (1,020,054,720 bytes) of heap memory\n",
      "Scaling row group sizes to 84.44% for 9 writers\n",
      "23/04/08 17:42:59 WARN MemoryManager: Total allocation exceeds 95.00% (1,020,054,720 bytes) of heap memory\n",
      "Scaling row group sizes to 95.00% for 8 writers\n"
     ]
    },
    {
     "name": "stderr",
     "output_type": "stream",
     "text": [
      "[Stage 114:===================>                                  (11 + 10) / 31]\r"
     ]
    },
    {
     "name": "stdout",
     "output_type": "stream",
     "text": [
      "23/04/08 17:42:59 WARN MemoryManager: Total allocation exceeds 95.00% (1,020,054,720 bytes) of heap memory\n",
      "Scaling row group sizes to 84.44% for 9 writers\n",
      "23/04/08 17:42:59 WARN MemoryManager: Total allocation exceeds 95.00% (1,020,054,720 bytes) of heap memory\n",
      "Scaling row group sizes to 95.00% for 8 writers\n",
      "23/04/08 17:42:59 WARN MemoryManager: Total allocation exceeds 95.00% (1,020,054,720 bytes) of heap memory\n",
      "Scaling row group sizes to 84.44% for 9 writers\n",
      "23/04/08 17:42:59 WARN MemoryManager: Total allocation exceeds 95.00% (1,020,054,720 bytes) of heap memory\n",
      "Scaling row group sizes to 95.00% for 8 writers\n",
      "23/04/08 17:42:59 WARN MemoryManager: Total allocation exceeds 95.00% (1,020,054,720 bytes) of heap memory\n",
      "Scaling row group sizes to 95.00% for 8 writers\n",
      "23/04/08 17:42:59 WARN MemoryManager: Total allocation exceeds 95.00% (1,020,054,720 bytes) of heap memory\n",
      "Scaling row group sizes to 84.44% for 9 writers\n",
      "23/04/08 17:42:59 WARN MemoryManager: Total allocation exceeds 95.00% (1,020,054,720 bytes) of heap memory\n",
      "Scaling row group sizes to 76.00% for 10 writers\n",
      "23/04/08 17:42:59 WARN MemoryManager: Total allocation exceeds 95.00% (1,020,054,720 bytes) of heap memory\n",
      "Scaling row group sizes to 84.44% for 9 writers\n"
     ]
    },
    {
     "name": "stderr",
     "output_type": "stream",
     "text": [
      "[Stage 114:==================================>                   (20 + 10) / 31]\r"
     ]
    },
    {
     "name": "stdout",
     "output_type": "stream",
     "text": [
      "23/04/08 17:43:00 WARN MemoryManager: Total allocation exceeds 95.00% (1,020,054,720 bytes) of heap memory\n",
      "Scaling row group sizes to 76.00% for 10 writers\n",
      "23/04/08 17:43:05 WARN MemoryManager: Total allocation exceeds 95.00% (1,020,054,720 bytes) of heap memory\n",
      "Scaling row group sizes to 84.44% for 9 writers\n",
      "23/04/08 17:43:05 WARN MemoryManager: Total allocation exceeds 95.00% (1,020,054,720 bytes) of heap memory\n",
      "Scaling row group sizes to 95.00% for 8 writers\n",
      "23/04/08 17:43:05 WARN MemoryManager: Total allocation exceeds 95.00% (1,020,054,720 bytes) of heap memory\n",
      "Scaling row group sizes to 84.44% for 9 writers\n",
      "23/04/08 17:43:05 WARN MemoryManager: Total allocation exceeds 95.00% (1,020,054,720 bytes) of heap memory\n",
      "Scaling row group sizes to 95.00% for 8 writers\n"
     ]
    },
    {
     "name": "stderr",
     "output_type": "stream",
     "text": [
      "                                                                                \r"
     ]
    }
   ],
   "source": [
    "whole_df_hotels.write.mode(\"overwrite\").parquet(\"whole-hotels\")"
   ]
  }
 ],
 "metadata": {
  "kernelspec": {
   "display_name": "Python 3 (ipykernel)",
   "language": "python",
   "name": "python3"
  },
  "language_info": {
   "codemirror_mode": {
    "name": "ipython",
    "version": 3
   },
   "file_extension": ".py",
   "mimetype": "text/x-python",
   "name": "python",
   "nbconvert_exporter": "python",
   "pygments_lexer": "ipython3",
   "version": "3.10.9"
  }
 },
 "nbformat": 4,
 "nbformat_minor": 5
}
