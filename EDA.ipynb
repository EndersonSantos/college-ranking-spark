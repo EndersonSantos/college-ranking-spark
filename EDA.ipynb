{
 "cells": [
  {
   "cell_type": "code",
   "execution_count": 2,
   "id": "0117b8c0-ea55-4385-88d8-0712a6b66b96",
   "metadata": {},
   "outputs": [
    {
     "name": "stderr",
     "output_type": "stream",
     "text": [
      "Setting default log level to \"WARN\".\n",
      "To adjust logging level use sc.setLogLevel(newLevel). For SparkR, use setLogLevel(newLevel).\n"
     ]
    },
    {
     "name": "stdout",
     "output_type": "stream",
     "text": [
      "23/03/19 12:46:59 WARN NativeCodeLoader: Unable to load native-hadoop library for your platform... using builtin-java classes where applicable\n"
     ]
    }
   ],
   "source": [
    "from pyspark.sql import SparkSession\n",
    "\n",
    "# build our own SparkSession\n",
    "spark = SparkSession\\\n",
    "    .builder\\\n",
    "    .appName(\"BigData\")\\\n",
    "    .config(\"spark.sql.shuffle.partitions\",6)\\\n",
    "    .config(\"spark.sql.repl.eagereval.enabled\",True)\\\n",
    "    .getOrCreate() "
   ]
  },
  {
   "cell_type": "markdown",
   "id": "dd577af9-6f1d-4299-bc8a-1e2fb287d118",
   "metadata": {},
   "source": [
    "- Read CSV \n",
    "- Perform EDA\n",
    "    - Understand the problem\n",
    "    - Which one makes sense to keep for Ranking "
   ]
  },
  {
   "cell_type": "code",
   "execution_count": 4,
   "id": "fd20a6ed-b9a0-4c44-b566-90f4ef77a9b1",
   "metadata": {},
   "outputs": [],
   "source": [
    "hotels_train = spark.read.csv(\"train.csv\")"
   ]
  },
  {
   "cell_type": "code",
   "execution_count": 6,
   "id": "1413713e-02e5-4ea7-89ba-e75a7a5db3a7",
   "metadata": {},
   "outputs": [
    {
     "name": "stdout",
     "output_type": "stream",
     "text": [
      "-RECORD 0--------------------\n",
      " _c0  | date_time            \n",
      " _c1  | site_name            \n",
      " _c2  | posa_continent       \n",
      " _c3  | user_location_cou... \n",
      " _c4  | user_location_region \n",
      " _c5  | user_location_city   \n",
      " _c6  | orig_destination_... \n",
      " _c7  | user_id              \n",
      " _c8  | is_mobile            \n",
      " _c9  | is_package           \n",
      " _c10 | channel              \n",
      " _c11 | srch_ci              \n",
      " _c12 | srch_co              \n",
      " _c13 | srch_adults_cnt      \n",
      " _c14 | srch_children_cnt    \n",
      " _c15 | srch_rm_cnt          \n",
      " _c16 | srch_destination_id  \n",
      " _c17 | srch_destination_... \n",
      " _c18 | is_booking           \n",
      " _c19 | cnt                  \n",
      " _c20 | hotel_continent      \n",
      " _c21 | hotel_country        \n",
      " _c22 | hotel_market         \n",
      " _c23 | hotel_cluster        \n",
      "-RECORD 1--------------------\n",
      " _c0  | 2014-08-11 07:46:59  \n",
      " _c1  | 2                    \n",
      " _c2  | 3                    \n",
      " _c3  | 66                   \n",
      " _c4  | 348                  \n",
      " _c5  | 48862                \n",
      " _c6  | 2234.2641            \n",
      " _c7  | 12                   \n",
      " _c8  | 0                    \n",
      " _c9  | 1                    \n",
      " _c10 | 9                    \n",
      " _c11 | 2014-08-27           \n",
      " _c12 | 2014-08-31           \n",
      " _c13 | 2                    \n",
      " _c14 | 0                    \n",
      " _c15 | 1                    \n",
      " _c16 | 8250                 \n",
      " _c17 | 1                    \n",
      " _c18 | 0                    \n",
      " _c19 | 3                    \n",
      " _c20 | 2                    \n",
      " _c21 | 50                   \n",
      " _c22 | 628                  \n",
      " _c23 | 1                    \n",
      "-RECORD 2--------------------\n",
      " _c0  | 2014-08-11 08:22:12  \n",
      " _c1  | 2                    \n",
      " _c2  | 3                    \n",
      " _c3  | 66                   \n",
      " _c4  | 348                  \n",
      " _c5  | 48862                \n",
      " _c6  | 2234.2641            \n",
      " _c7  | 12                   \n",
      " _c8  | 0                    \n",
      " _c9  | 1                    \n",
      " _c10 | 9                    \n",
      " _c11 | 2014-08-29           \n",
      " _c12 | 2014-09-02           \n",
      " _c13 | 2                    \n",
      " _c14 | 0                    \n",
      " _c15 | 1                    \n",
      " _c16 | 8250                 \n",
      " _c17 | 1                    \n",
      " _c18 | 1                    \n",
      " _c19 | 1                    \n",
      " _c20 | 2                    \n",
      " _c21 | 50                   \n",
      " _c22 | 628                  \n",
      " _c23 | 1                    \n",
      "-RECORD 3--------------------\n",
      " _c0  | 2014-08-11 08:24:33  \n",
      " _c1  | 2                    \n",
      " _c2  | 3                    \n",
      " _c3  | 66                   \n",
      " _c4  | 348                  \n",
      " _c5  | 48862                \n",
      " _c6  | 2234.2641            \n",
      " _c7  | 12                   \n",
      " _c8  | 0                    \n",
      " _c9  | 0                    \n",
      " _c10 | 9                    \n",
      " _c11 | 2014-08-29           \n",
      " _c12 | 2014-09-02           \n",
      " _c13 | 2                    \n",
      " _c14 | 0                    \n",
      " _c15 | 1                    \n",
      " _c16 | 8250                 \n",
      " _c17 | 1                    \n",
      " _c18 | 0                    \n",
      " _c19 | 1                    \n",
      " _c20 | 2                    \n",
      " _c21 | 50                   \n",
      " _c22 | 628                  \n",
      " _c23 | 1                    \n",
      "-RECORD 4--------------------\n",
      " _c0  | 2014-08-09 18:05:16  \n",
      " _c1  | 2                    \n",
      " _c2  | 3                    \n",
      " _c3  | 66                   \n",
      " _c4  | 442                  \n",
      " _c5  | 35390                \n",
      " _c6  | 913.1932             \n",
      " _c7  | 93                   \n",
      " _c8  | 0                    \n",
      " _c9  | 0                    \n",
      " _c10 | 3                    \n",
      " _c11 | 2014-11-23           \n",
      " _c12 | 2014-11-28           \n",
      " _c13 | 2                    \n",
      " _c14 | 0                    \n",
      " _c15 | 1                    \n",
      " _c16 | 14984                \n",
      " _c17 | 1                    \n",
      " _c18 | 0                    \n",
      " _c19 | 1                    \n",
      " _c20 | 2                    \n",
      " _c21 | 50                   \n",
      " _c22 | 1457                 \n",
      " _c23 | 80                   \n",
      "only showing top 5 rows\n",
      "\n"
     ]
    }
   ],
   "source": [
    "hotels_train.show(5, vertical=True)"
   ]
  },
  {
   "cell_type": "code",
   "execution_count": null,
   "id": "16f6b282-f9d2-45a1-bb9d-adeafd2aab0e",
   "metadata": {},
   "outputs": [],
   "source": []
  }
 ],
 "metadata": {
  "kernelspec": {
   "display_name": "Python 3 (ipykernel)",
   "language": "python",
   "name": "python3"
  },
  "language_info": {
   "codemirror_mode": {
    "name": "ipython",
    "version": 3
   },
   "file_extension": ".py",
   "mimetype": "text/x-python",
   "name": "python",
   "nbconvert_exporter": "python",
   "pygments_lexer": "ipython3",
   "version": "3.10.9"
  }
 },
 "nbformat": 4,
 "nbformat_minor": 5
}
