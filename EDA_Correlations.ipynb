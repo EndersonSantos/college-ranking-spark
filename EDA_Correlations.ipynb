{
 "cells": [
  {
   "cell_type": "markdown",
   "id": "73c32ae9-f213-43f8-8f93-612914039484",
   "metadata": {},
   "source": [
    "# Exploratory Data Analysis "
   ]
  },
  {
   "cell_type": "code",
   "execution_count": 1,
   "id": "d8c7b0aa-c1ad-48f9-939c-58e262df4c14",
   "metadata": {
    "tags": []
   },
   "outputs": [
    {
     "name": "stderr",
     "output_type": "stream",
     "text": [
      "Setting default log level to \"WARN\".\n",
      "To adjust logging level use sc.setLogLevel(newLevel). For SparkR, use setLogLevel(newLevel).\n"
     ]
    },
    {
     "name": "stdout",
     "output_type": "stream",
     "text": [
      "23/04/07 10:30:11 WARN NativeCodeLoader: Unable to load native-hadoop library for your platform... using builtin-java classes where applicable\n",
      "23/04/07 10:30:11 WARN Utils: Service 'SparkUI' could not bind on port 4040. Attempting port 4041.\n"
     ]
    }
   ],
   "source": [
    "from pyspark.sql import SparkSession\n",
    "\n",
    "    # build our own SparkSession\n",
    "spark = (SparkSession\n",
    "        .builder\n",
    "        .appName(\"BigData\")\n",
    "        .config(\"spark.sql.shuffle.partitions\",6)\n",
    "        .config(\"spark.sql.repl.eagereval.enabled\",True)\n",
    "        .getOrCreate()\n",
    "        )"
   ]
  },
  {
   "cell_type": "code",
   "execution_count": 2,
   "id": "b8de2581-04de-4e0c-b728-d34fea32c00e",
   "metadata": {
    "tags": []
   },
   "outputs": [
    {
     "name": "stderr",
     "output_type": "stream",
     "text": [
      "                                                                                \r"
     ]
    }
   ],
   "source": [
    "df_hotels = spark.read.parquet('small-hotels')"
   ]
  },
  {
   "cell_type": "code",
   "execution_count": 3,
   "id": "6826bb2c-d809-44f3-9af3-de729154d24b",
   "metadata": {
    "tags": []
   },
   "outputs": [],
   "source": [
    "from pyspark.sql import SparkSession\n",
    "import pyspark.sql.functions as F\n",
    "from pyspark.sql.types import *\n",
    "\n",
    "from pyspark.ml import Pipeline\n",
    "from pyspark.ml.stat import Correlation\n",
    "from pyspark.ml.feature import VectorAssembler, StringIndexer, OneHotEncoder\n",
    "from pyspark.ml.classification import LinearSVC\n",
    "from pyspark.ml.evaluation import BinaryClassificationEvaluator\n",
    "\n",
    "import os\n",
    "import sys\n",
    "\n",
    "import numpy as np \n",
    "import pandas as pd  \n",
    "import matplotlib.pyplot as plt\n",
    "import seaborn as sns\n",
    "# from ydata_profiling import ProfileReport\n",
    "import warnings\n",
    "warnings.filterwarnings(\"ignore\")"
   ]
  },
  {
   "cell_type": "markdown",
   "id": "dd28830b-0b9c-4886-8772-d4faf26a2c6d",
   "metadata": {},
   "source": [
    "## Percentage of booking"
   ]
  },
  {
   "cell_type": "code",
   "execution_count": 4,
   "id": "c64f93ab-eb4e-4a9b-9d5a-2f1763efb428",
   "metadata": {},
   "outputs": [
    {
     "name": "stdout",
     "output_type": "stream",
     "text": [
      "Porcentagem de reservas por seção: 7.9903553218525865\n"
     ]
    }
   ],
   "source": [
    "from pyspark.sql.functions import mean\n",
    "\n",
    "percent_booking = df_hotels.select(mean(df_hotels.booking)).collect()[0][0] * 100\n",
    "print(\"Porcentagem de reservas por seção:\", percent_booking)"
   ]
  },
  {
   "cell_type": "markdown",
   "id": "956dede8-2ad0-483a-94d6-67c9b8e81ec9",
   "metadata": {},
   "source": [
    "## Percentage of serach with package option"
   ]
  },
  {
   "cell_type": "code",
   "execution_count": 5,
   "id": "56c3ec40-2aea-419a-ad5f-17fffb822123",
   "metadata": {},
   "outputs": [
    {
     "name": "stdout",
     "output_type": "stream",
     "text": [
      "Porcentagem de reservas por seção: 24.862161917876684\n"
     ]
    }
   ],
   "source": [
    "from pyspark.sql.functions import mean\n",
    "\n",
    "percent_package = df_hotels.select(mean(df_hotels.package)).collect()[0][0] * 100\n",
    "print(\"Porcentagem de reservas por seção:\", percent_package)"
   ]
  },
  {
   "cell_type": "markdown",
   "id": "9bea0f42-4f59-4b0a-9bd8-1c296dd51ad8",
   "metadata": {},
   "source": [
    "## Percentage of searches in Mobile"
   ]
  },
  {
   "cell_type": "code",
   "execution_count": 6,
   "id": "c870afe2-5c09-474a-8a2f-314b8981d554",
   "metadata": {},
   "outputs": [
    {
     "name": "stdout",
     "output_type": "stream",
     "text": [
      "Porcentagem de reservas por seção: 13.457888272730656\n"
     ]
    }
   ],
   "source": [
    "from pyspark.sql.functions import mean\n",
    "\n",
    "percent_mobile = df_hotels.select(mean(df_hotels.mobile)).collect()[0][0] * 100\n",
    "print(\"Porcentagem de reservas por seção:\", percent_mobile)\n"
   ]
  },
  {
   "cell_type": "markdown",
   "id": "61bef9ae-8295-4d12-9374-7467fd6e2197",
   "metadata": {},
   "source": [
    "## Percentagem de viajens de users para o mesmo país"
   ]
  },
  {
   "cell_type": "code",
   "execution_count": 7,
   "id": "bdb0e498-73be-452f-b25f-0891ba1af791",
   "metadata": {},
   "outputs": [
    {
     "data": {
      "text/plain": [
       "0.12893243940175347"
      ]
     },
     "execution_count": 7,
     "metadata": {},
     "output_type": "execute_result"
    }
   ],
   "source": [
    "same_country_df = df_hotels.filter(df_hotels.user_location_country == df_hotels.hotel_country)\n",
    "same_country_percentage = (same_country_df.count() / df_hotels.count()) * 100\n",
    "same_country_percentage"
   ]
  },
  {
   "cell_type": "markdown",
   "id": "8033c4ac-8e04-4a38-987a-bdcd14a7ffa8",
   "metadata": {},
   "source": [
    "## Média de Filhos e percentagem de filhos ser 0"
   ]
  },
  {
   "cell_type": "code",
   "execution_count": 8,
   "id": "515ffd6f-beef-4bd2-ad3f-4bd8832ced7c",
   "metadata": {},
   "outputs": [
    {
     "data": {
      "text/plain": [
       "0.2733140366636724"
      ]
     },
     "execution_count": 8,
     "metadata": {},
     "output_type": "execute_result"
    }
   ],
   "source": [
    "from pyspark.sql.functions import avg\n",
    "avg_children = df_hotels.filter(df_hotels.booking == 1).agg(avg(df_hotels.num_children)).collect()[0][0]\n",
    "avg_children"
   ]
  },
  {
   "cell_type": "code",
   "execution_count": 9,
   "id": "98a4fa61-a23e-4b3b-9697-f92d14cbf82a",
   "metadata": {},
   "outputs": [
    {
     "data": {
      "text/plain": [
       "81.11255281631567"
      ]
     },
     "execution_count": 9,
     "metadata": {},
     "output_type": "execute_result"
    }
   ],
   "source": [
    "from pyspark.sql.functions import avg\n",
    "df_filtered = df_hotels.filter(df_hotels.booking == 1)\n",
    "avg_children_cnt = df_filtered.agg(avg(df_filtered.num_children)).collect()[0][0]\n",
    "pct_avg_children_cnt_zero = df_filtered.filter(df_filtered.num_children == 0).count() / df_filtered.count() * 100\n",
    "pct_avg_children_cnt_zero"
   ]
  },
  {
   "cell_type": "markdown",
   "id": "e088868b-1153-4aff-abfb-5a3a856030f3",
   "metadata": {},
   "source": [
    "## Media de pessoas pra reserva"
   ]
  },
  {
   "cell_type": "code",
   "execution_count": 10,
   "id": "6fc78d83-a136-4d3e-8fca-5f4f3e93ed32",
   "metadata": {},
   "outputs": [
    {
     "data": {
      "text/plain": [
       "1.8702132614698739"
      ]
     },
     "execution_count": 10,
     "metadata": {},
     "output_type": "execute_result"
    }
   ],
   "source": [
    "from pyspark.sql.functions import avg\n",
    "df_filtered = df_hotels.filter(df_hotels.booking == 1)\n",
    "avg_srch_adults_cnt = df_filtered.agg(avg(df_filtered. num_adults)).collect()[0][0]\n",
    "avg_srch_adults_cnt"
   ]
  },
  {
   "cell_type": "code",
   "execution_count": 11,
   "id": "902a3a84-bb1d-4002-9758-1bbc12016adb",
   "metadata": {},
   "outputs": [
    {
     "name": "stdout",
     "output_type": "stream",
     "text": [
      "1:  32.904148783977114\n",
      "2:  55.917090860698\n"
     ]
    }
   ],
   "source": [
    "from pyspark.sql.functions import col\n",
    "\n",
    "df_filtered = df_hotels.filter(df_hotels.booking == 1)\n",
    "total_rows = df_filtered.count()\n",
    "filtered_rows = df_filtered.filter(col(\"num_adults\") == 1).count()\n",
    "percentage = (filtered_rows / total_rows) * 100\n",
    "print(\"1: \",percentage)\n",
    "filtered_rows = df_filtered.filter(col(\"num_adults\") == 2).count()\n",
    "percentage = (filtered_rows / total_rows) * 100\n",
    "print(\"2: \",percentage)"
   ]
  },
  {
   "cell_type": "markdown",
   "id": "e19be278-146a-4cd3-9322-9e3af9a21fc3",
   "metadata": {},
   "source": [
    "# Estatistica sobre pesquisas em que foram efetuadas a reserva"
   ]
  },
  {
   "cell_type": "markdown",
   "id": "125a8902-2cca-41bc-b68f-c34934347b6a",
   "metadata": {},
   "source": [
    "## Foram mais pra fora do país?"
   ]
  },
  {
   "cell_type": "code",
   "execution_count": 12,
   "id": "0bb7e389-4aca-4ed6-80ed-41e70e85f208",
   "metadata": {},
   "outputs": [
    {
     "data": {
      "text/plain": [
       "0.16967761253618127"
      ]
     },
     "execution_count": 12,
     "metadata": {},
     "output_type": "execute_result"
    }
   ],
   "source": [
    "same_country_booking_df = df_hotels.filter((df_hotels.user_location_country == df_hotels.hotel_country) & (df_hotels.booking == 1))\n",
    "same_country_booking_percentage = (same_country_booking_df.count() / df_hotels.filter(df_hotels.booking == 1).count()) * 100\n",
    "same_country_booking_percentage"
   ]
  },
  {
   "cell_type": "markdown",
   "id": "1e229647-3362-4d89-9d67-976d188099f5",
   "metadata": {},
   "source": [
    "## Percentagem de pesquisas com pelo menos uma criança no mesmo país"
   ]
  },
  {
   "cell_type": "code",
   "execution_count": 13,
   "id": "ff263873-5cc7-482d-9378-bf34d3fe8d67",
   "metadata": {},
   "outputs": [
    {
     "data": {
      "text/plain": [
       "0.10580435233381008"
      ]
     },
     "execution_count": 13,
     "metadata": {},
     "output_type": "execute_result"
    }
   ],
   "source": [
    "same_country_children_df = df_hotels.filter((df_hotels.user_location_country == df_hotels.hotel_country) & (df_hotels.num_children == 0))\n",
    "same_country_children_percentage = (same_country_children_df.count() / df_hotels.count()) * 100\n",
    "same_country_children_percentage"
   ]
  },
  {
   "cell_type": "markdown",
   "id": "476b6a5f-df16-4b6e-a2ed-baaac6e37970",
   "metadata": {},
   "source": [
    "## Quantas reservas em percentagem são feitas por pacote"
   ]
  },
  {
   "cell_type": "code",
   "execution_count": 14,
   "id": "bb867c95-8b75-4f6c-9abb-359a1595e808",
   "metadata": {},
   "outputs": [
    {
     "name": "stdout",
     "output_type": "stream",
     "text": [
      "Percentage of is_package == 1 for is_booking == 1: 86.34%\n"
     ]
    }
   ],
   "source": [
    "from pyspark.sql.functions import col\n",
    "\n",
    "# calcular a quantidade de linhas em que is_booking == 1 e is_package == 1\n",
    "num_is_booking_and_is_package = df_hotels.filter((col(\"booking\") == 1) & (col(\"package\") == 0)).count()\n",
    "\n",
    "# calcular a quantidade de linhas em que is_booking == 1\n",
    "num_is_booking = df_hotels.filter(col(\"booking\") == 1).count()\n",
    "\n",
    "# calcular a porcentagem\n",
    "percentage = (num_is_booking_and_is_package / num_is_booking) * 100\n",
    "\n",
    "print(f\"Percentage of package == 1 for booking == 1: {percentage:.2f}%\")\n"
   ]
  },
  {
   "cell_type": "markdown",
   "id": "f9090781-434c-495a-8930-4fda6cd5b401",
   "metadata": {},
   "source": [
    "## Percentagem de Users que viajam para outro país"
   ]
  },
  {
   "cell_type": "code",
   "execution_count": 15,
   "id": "f0d66054-5df6-4e81-b910-dc49e450432e",
   "metadata": {},
   "outputs": [
    {
     "name": "stdout",
     "output_type": "stream",
     "text": [
      "A percentagem de posa_continent==hotel_continent para is_booking == 1 é 6.15%\n"
     ]
    }
   ],
   "source": [
    "from pyspark.sql.functions import when, col, sum, count, expr\n",
    "\n",
    "# filtro para is_booking == 1\n",
    "df_booking = df_hotels.filter(col('booking') == 1)\n",
    "\n",
    "# criar uma coluna com 1 para quando posa_continent==hotel_continent e 0 para os outros casos\n",
    "df_booking = df_booking.withColumn('continent_match', when(expr('posa_continent = hotel_continent'), 1).otherwise(0))\n",
    "\n",
    "# calcular a percentagem de posa_continent==hotel_continent para is_booking == 1\n",
    "continent_match_pct = df_booking.select((sum(col('continent_match')) / count('*')) * 100).collect()[0][0]\n",
    "\n",
    "print(f\"A percentagem de posa_continent==hotel_continent para is_booking == 1 é {continent_match_pct:.2f}%\")\n"
   ]
  },
  {
   "cell_type": "markdown",
   "id": "d09f5038-9635-43cd-a6b0-c578a299d414",
   "metadata": {},
   "source": [
    "## Numero de hoteis distintos"
   ]
  },
  {
   "cell_type": "code",
   "execution_count": 101,
   "id": "fd3c13d5-c6b6-4aae-92c2-e1254fb395b5",
   "metadata": {},
   "outputs": [
    {
     "data": {
      "text/plain": [
       "376155"
      ]
     },
     "execution_count": 101,
     "metadata": {},
     "output_type": "execute_result"
    }
   ],
   "source": [
    "df_hotels.count()"
   ]
  },
  {
   "cell_type": "code",
   "execution_count": 65,
   "id": "e4547445-37fd-4319-ac4a-cdfc21b1fcbf",
   "metadata": {},
   "outputs": [
    {
     "data": {
      "text/plain": [
       "31650"
      ]
     },
     "execution_count": 65,
     "metadata": {},
     "output_type": "execute_result"
    }
   ],
   "source": [
    "df_hotels.select(\"Id_hotel\").distinct().count()"
   ]
  },
  {
   "cell_type": "markdown",
   "id": "b5965197-9788-4621-9c75-171eefe3cd86",
   "metadata": {},
   "source": [
    "# Correlation "
   ]
  },
  {
   "cell_type": "code",
   "execution_count": 66,
   "id": "b58d10ea-a513-4670-a0dc-3b9f83b80c75",
   "metadata": {
    "tags": []
   },
   "outputs": [],
   "source": [
    "def plotHistogram(df, xcol, huecol=None):\n",
    "    sns.histplot(data=df, x=xcol, hue=huecol, multiple=\"stack\")"
   ]
  },
  {
   "cell_type": "code",
   "execution_count": 67,
   "id": "450f7974-d1db-4b3f-9f97-15c817253466",
   "metadata": {
    "tags": []
   },
   "outputs": [],
   "source": [
    "def plot(df, xcol, ycol):\n",
    "    sns.lineplot(data=df, x=xcol, y=ycol)"
   ]
  },
  {
   "cell_type": "code",
   "execution_count": 68,
   "id": "ac7c9b3a-2e5d-4c70-9bb9-f6bc105c9cce",
   "metadata": {
    "tags": []
   },
   "outputs": [],
   "source": [
    "def plotBar(df, xcol, ycol, huecol=None):\n",
    "    sns.barplot(data=df, x=xcol, y=ycol, hue=huecol)"
   ]
  },
  {
   "cell_type": "code",
   "execution_count": 69,
   "id": "a1d22f90-95d5-4b29-be01-bd69910cf2e5",
   "metadata": {
    "tags": []
   },
   "outputs": [],
   "source": [
    "def plotScatter(df, xcol, ycol, huecol=None):\n",
    "    sns.scatterplot(data=df, x=xcol, y=ycol, hue=huecol)"
   ]
  },
  {
   "cell_type": "code",
   "execution_count": 70,
   "id": "b693d43a-b67e-461f-953f-cdafccb28b12",
   "metadata": {
    "tags": []
   },
   "outputs": [],
   "source": [
    "def plotScatterMatrix(df, huecol=None):\n",
    "    sns.pairplot(data=df, hue=huecol)"
   ]
  },
  {
   "cell_type": "code",
   "execution_count": 71,
   "id": "4af81ff7-d7dc-44da-8cc3-2315b1f63211",
   "metadata": {
    "tags": []
   },
   "outputs": [],
   "source": [
    "def plotCorrelationMatrix_1(df, annot=False):\n",
    "    # compute the correlation matrix\n",
    "    corr = df.corr()\n",
    "    \n",
    "    # generate a mask for the upper triangle\n",
    "    mask = np.triu(np.ones_like(corr, dtype=bool))\n",
    "\n",
    "    # set up the matplotlib figure\n",
    "    f, ax = plt.subplots(figsize=(11, 9))\n",
    "\n",
    "    # generate a custom diverging colormap\n",
    "    cmap = sns.diverging_palette(230, 20, as_cmap=True)\n",
    "    #cmap='coolwarm'\n",
    "\n",
    "    # draw the heatmap with the mask and correct aspect ratio\n",
    "    sns.heatmap(corr, mask=mask, cmap=cmap, vmax=.3, center=0, annot=annot,\n",
    "            square=True, linewidths=.5, cbar_kws={\"shrink\": .5})"
   ]
  },
  {
   "cell_type": "code",
   "execution_count": 72,
   "id": "69529a5d-c7b1-431b-bdbd-c887bdd347f8",
   "metadata": {
    "tags": []
   },
   "outputs": [],
   "source": [
    "def plotCorrelationMatrix_2(df):\n",
    "    # compute a correlation matrix and convert to long-form\n",
    "    corr_mat = df.corr().stack().reset_index(name=\"correlation\")\n",
    "    # draw each cell as a scatter point with varying size and color\n",
    "    g = sns.relplot(\n",
    "        data=corr_mat,\n",
    "        x=\"level_0\", y=\"level_1\", hue=\"correlation\", size=\"correlation\",\n",
    "        palette=\"vlag\", hue_norm=(-1, 1), edgecolor=\".7\",\n",
    "        height=10, sizes=(50, 250), size_norm=(-.2, .8),\n",
    "    )\n",
    "\n",
    "    # tweak the figure to finalize\n",
    "    g.set(xlabel=\"\", ylabel=\"\", aspect=\"equal\")\n",
    "    g.despine(left=True, bottom=True)\n",
    "    g.ax.margins(.02)\n",
    "    for label in g.ax.get_xticklabels():\n",
    "        label.set_rotation(90)\n",
    "    for artist in g.legend.legendHandles:\n",
    "        artist.set_edgecolor(\".7\")"
   ]
  },
  {
   "cell_type": "code",
   "execution_count": 73,
   "id": "c1d2fcba-ce8f-4e04-81b1-4223ea23fc62",
   "metadata": {
    "tags": []
   },
   "outputs": [],
   "source": [
    "cls_1 = ['site_name', 'user_id', 'mobile', 'num_adults', 'hotel_cluster', 'booking']\n",
    "\n",
    "# numeric types but no nulls\n",
    "cls_2 = ['mobile', 'num_adults', 'booking',  'package', 'num_children','num_room','similar_srch','num_nights']"
   ]
  },
  {
   "cell_type": "code",
   "execution_count": 74,
   "id": "53fe115f-67f4-44a8-9245-b6caee5d825f",
   "metadata": {
    "tags": []
   },
   "outputs": [],
   "source": [
    "cols_corr = cls_2\n",
    "\n",
    "vector_col = \"corr_features\"\n",
    "assembler = VectorAssembler(inputCols=cols_corr, outputCol=vector_col)\n",
    "df_vector = assembler.transform(df_hotels).select(vector_col)\n",
    "\n",
    "# get correlation matrix - it can be Pearson’s (default) or Spearman’s correlation\n",
    "\n",
    "# corr = Correlation.corr(df_vector, vector_col).head()\n",
    "# print(\"Pearson correlation matrix:\\n\" + str(corr[0]))\n",
    "\n",
    "# corr = Correlation.corr(df_vector, vector_col, \"spearman\").head()\n",
    "# print(\"Spearman correlation matrix:\\n\" + str(corr[0]))\n",
    "\n",
    "corr_matrix = Correlation.corr(df_vector, vector_col).collect()[0][0].toArray().tolist()"
   ]
  },
  {
   "cell_type": "code",
   "execution_count": 75,
   "id": "3c8a070a-196f-499d-ad69-e3dd114a96e8",
   "metadata": {
    "tags": []
   },
   "outputs": [
    {
     "data": {
      "image/png": "[encoded data removed]",
      "text/plain": [
       "<Figure size 1100x900 with 2 Axes>"
      ]
     },
     "metadata": {},
     "output_type": "display_data"
    }
   ],
   "source": [
    "df_plot = pd.DataFrame(data = corr_matrix, index=cols_corr, columns=cols_corr)\n",
    "plotCorrelationMatrix_1(df_plot, annot=True)\n",
    "plt.title('Correlations among numerical features')\n",
    "plt.show()"
   ]
  },
  {
   "cell_type": "markdown",
   "id": "2f43fe36-a88f-4619-b7eb-d628a7e57923",
   "metadata": {},
   "source": [
    "# Gráficos"
   ]
  },
  {
   "cell_type": "code",
   "execution_count": 16,
   "id": "10356a90-8e53-4248-9fa1-fddaaa20f51c",
   "metadata": {},
   "outputs": [
    {
     "name": "stdout",
     "output_type": "stream",
     "text": [
      "-RECORD 0---------------------------------------\n",
      " date_time                | 2014-07-14 17:37:39 \n",
      " site_name                | 2                   \n",
      " posa_continent           | 3                   \n",
      " user_location_country    | 19                  \n",
      " user_location_region     | 58                  \n",
      " user_location_city       | 1454                \n",
      " user_id                  | 336350              \n",
      " is_mobile                | 0                   \n",
      " is_package               | 0                   \n",
      " channel                  | 9                   \n",
      " srch_ci                  | 2014-08-11 00:00:00 \n",
      " srch_co                  | 2014-08-16 00:00:00 \n",
      " srch_adults_cnt          | 2                   \n",
      " srch_children_cnt        | 4                   \n",
      " srch_rm_cnt              | 2                   \n",
      " srch_destination_id      | 8279                \n",
      " srch_destination_type_id | 1                   \n",
      " is_booking               | 0                   \n",
      " cnt                      | 2                   \n",
      " hotel_continent          | 2                   \n",
      " hotel_country            | 50                  \n",
      " hotel_market             | 1230                \n",
      " hotel_cluster            | 70                  \n",
      " Id_hotel                 | 5                   \n",
      " num_nights               | 5                   \n",
      "only showing top 1 row\n",
      "\n"
     ]
    }
   ],
   "source": [
    "df_hotels.show(1, vertical=True)"
   ]
  }
 ],
 "metadata": {
  "kernelspec": {
   "display_name": "Python 3 (ipykernel)",
   "language": "python",
   "name": "python3"
  },
  "language_info": {
   "codemirror_mode": {
    "name": "ipython",
    "version": 3
   },
   "file_extension": ".py",
   "mimetype": "text/x-python",
   "name": "python",
   "nbconvert_exporter": "python",
   "pygments_lexer": "ipython3",
   "version": "3.10.9"
  }
 },
 "nbformat": 4,
 "nbformat_minor": 5
}
